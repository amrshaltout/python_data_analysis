{
 "cells": [
  {
   "cell_type": "markdown",
   "id": "bd8dda4b",
   "metadata": {},
   "source": [
    "## Data Wrangling and preprocessing"
   ]
  },
  {
   "cell_type": "code",
   "execution_count": 1,
   "id": "ec4952a5",
   "metadata": {},
   "outputs": [],
   "source": [
    "# importing libraries for data preprocessing\n",
    "import numpy as np\n",
    "import pandas as pd"
   ]
  },
  {
   "cell_type": "code",
   "execution_count": 2,
   "id": "d4a3434d",
   "metadata": {},
   "outputs": [],
   "source": [
    "# to display the whole data when it's needed\n",
    "\n",
    "#pd.options.display.max_columns = None\n",
    "#pd.options.display.max_rows = None"
   ]
  },
  {
   "cell_type": "code",
   "execution_count": 3,
   "id": "cdba7223",
   "metadata": {},
   "outputs": [],
   "source": [
    "np.set_printoptions(suppress = True, linewidth = 100, precision = 2)"
   ]
  },
  {
   "cell_type": "code",
   "execution_count": 4,
   "id": "e4443aa9",
   "metadata": {},
   "outputs": [
    {
     "data": {
      "text/plain": [
       "array([[    nan,     nan,     nan, ...,   14.12, 1015.13,    0.89],\n",
       "       [    nan,     nan,     nan, ...,   14.26, 1015.63,    0.86],\n",
       "       [    nan,     nan,     nan, ...,    3.93, 1015.94,    0.89],\n",
       "       ...,\n",
       "       [    nan,     nan,     nan, ...,    8.98, 1015.66,    0.56],\n",
       "       [    nan,     nan,     nan, ...,   10.53, 1015.95,    0.6 ],\n",
       "       [    nan,     nan,     nan, ...,    5.88, 1016.16,    0.61]])"
      ]
     },
     "execution_count": 4,
     "metadata": {},
     "output_type": "execute_result"
    }
   ],
   "source": [
    "raw_data = np.genfromtxt(\"F:/Data_Analysis_Projects/EnglandWeather/EnglandWeatherData/EnglandWeather.csv\", \n",
    "                          delimiter = ',',\n",
    "                          skip_header = True,\n",
    "                          autostrip = True)\n",
    "raw_data"
   ]
  },
  {
   "cell_type": "markdown",
   "id": "1dd926e3",
   "metadata": {},
   "source": [
    "### Checking For Incomplete Data"
   ]
  },
  {
   "cell_type": "code",
   "execution_count": 5,
   "id": "f1f513b4",
   "metadata": {
    "scrolled": true
   },
   "outputs": [
    {
     "data": {
      "text/plain": [
       "289359"
      ]
     },
     "execution_count": 5,
     "metadata": {},
     "output_type": "execute_result"
    }
   ],
   "source": [
    "np.isnan(raw_data).sum()"
   ]
  },
  {
   "cell_type": "code",
   "execution_count": 6,
   "id": "f0217b0b",
   "metadata": {},
   "outputs": [
    {
     "name": "stderr",
     "output_type": "stream",
     "text": [
      "C:\\Users\\amrsh\\AppData\\Local\\Temp\\ipykernel_14068\\2836188066.py:1: RuntimeWarning: Mean of empty slice\n",
      "  temporary_mean = np.nanmean(raw_data, axis = 0)\n"
     ]
    },
    {
     "data": {
      "text/plain": [
       "array([    nan,     nan,     nan,   11.93,   10.81, 1003.24,    0.73])"
      ]
     },
     "execution_count": 6,
     "metadata": {},
     "output_type": "execute_result"
    }
   ],
   "source": [
    "temporary_mean = np.nanmean(raw_data, axis = 0)\n",
    "temporary_mean"
   ]
  },
  {
   "cell_type": "markdown",
   "id": "bc8be562",
   "metadata": {},
   "source": [
    "### Spliting The Dataset"
   ]
  },
  {
   "cell_type": "markdown",
   "id": "af1d19cc",
   "metadata": {},
   "source": [
    "#### Spliting The Columns"
   ]
  },
  {
   "cell_type": "code",
   "execution_count": 7,
   "id": "248b635b",
   "metadata": {},
   "outputs": [
    {
     "data": {
      "text/plain": [
       "array([0, 1, 2], dtype=int64)"
      ]
     },
     "execution_count": 7,
     "metadata": {},
     "output_type": "execute_result"
    }
   ],
   "source": [
    "columns_strings = np.argwhere(np.isnan(temporary_mean)).squeeze()\n",
    "columns_strings"
   ]
  },
  {
   "cell_type": "code",
   "execution_count": 8,
   "id": "e959f919",
   "metadata": {},
   "outputs": [
    {
     "data": {
      "text/plain": [
       "array([3, 4, 5, 6], dtype=int64)"
      ]
     },
     "execution_count": 8,
     "metadata": {},
     "output_type": "execute_result"
    }
   ],
   "source": [
    "columns_numeric = np.argwhere(np.isnan(temporary_mean) == False).squeeze()\n",
    "columns_numeric"
   ]
  },
  {
   "cell_type": "markdown",
   "id": "b989c7f1",
   "metadata": {},
   "source": [
    "### Reimporting The Data"
   ]
  },
  {
   "cell_type": "code",
   "execution_count": 9,
   "id": "d50e798e",
   "metadata": {},
   "outputs": [
    {
     "data": {
      "text/plain": [
       "array([['2006-04-01 00:00:00.000 +0200', 'Partly Cloudy', 'rain'],\n",
       "       ['2006-04-01 01:00:00.000 +0200', 'Partly Cloudy', 'rain'],\n",
       "       ['2006-04-01 02:00:00.000 +0200', 'Mostly Cloudy', 'rain'],\n",
       "       ...,\n",
       "       ['2016-09-09 21:00:00.000 +0200', 'Partly Cloudy', 'rain'],\n",
       "       ['2016-09-09 22:00:00.000 +0200', 'Partly Cloudy', 'rain'],\n",
       "       ['2016-09-09 23:00:00.000 +0200', 'Partly Cloudy', 'rain']], dtype='<U35')"
      ]
     },
     "execution_count": 9,
     "metadata": {},
     "output_type": "execute_result"
    }
   ],
   "source": [
    "weather_data_string = np.genfromtxt(\"F:/Data_Analysis_Projects/EnglandWeather/EnglandWeatherData/EnglandWeather.csv\", \n",
    "                          delimiter = ',',\n",
    "                          skip_header = True,\n",
    "                          autostrip = True,\n",
    "                          usecols = columns_strings,\n",
    "                          dtype = np.str_)\n",
    "weather_data_string"
   ]
  },
  {
   "cell_type": "code",
   "execution_count": 10,
   "id": "dd4f9a14",
   "metadata": {},
   "outputs": [
    {
     "data": {
      "text/plain": [
       "array([[   9.47,   14.12, 1015.13,    0.89],\n",
       "       [   9.36,   14.26, 1015.63,    0.86],\n",
       "       [   9.38,    3.93, 1015.94,    0.89],\n",
       "       ...,\n",
       "       [  22.04,    8.98, 1015.66,    0.56],\n",
       "       [  21.52,   10.53, 1015.95,    0.6 ],\n",
       "       [  20.44,    5.88, 1016.16,    0.61]])"
      ]
     },
     "execution_count": 10,
     "metadata": {},
     "output_type": "execute_result"
    }
   ],
   "source": [
    "weather_data_numeric = np.genfromtxt(\"F:/Data_Analysis_Projects/EnglandWeather/EnglandWeatherData/EnglandWeather.csv\", \n",
    "                          delimiter = ',',\n",
    "                          skip_header = True,\n",
    "                          autostrip = True,\n",
    "                          usecols = columns_numeric)\n",
    "weather_data_numeric"
   ]
  },
  {
   "cell_type": "markdown",
   "id": "2ea4fc8c",
   "metadata": {},
   "source": [
    "### Names Of Columns"
   ]
  },
  {
   "cell_type": "code",
   "execution_count": 11,
   "id": "f11e14e1",
   "metadata": {},
   "outputs": [
    {
     "data": {
      "text/plain": [
       "array(['Formatted Date', 'Summary', 'Precip Type', 'Temperature (C)', 'Wind Speed (km/h)',\n",
       "       'Pressure (millibars)', 'Humidity'], dtype='<U20')"
      ]
     },
     "execution_count": 11,
     "metadata": {},
     "output_type": "execute_result"
    }
   ],
   "source": [
    "header_names = np.genfromtxt(\"F:/Data_Analysis_Projects/EnglandWeather/EnglandWeatherData/EnglandWeather.csv\", \n",
    "                              delimiter = ',',\n",
    "                              skip_footer = raw_data.shape[0],\n",
    "                              autostrip = True,\n",
    "                              dtype = np.str_)\n",
    "header_names"
   ]
  },
  {
   "cell_type": "code",
   "execution_count": 12,
   "id": "36778503",
   "metadata": {},
   "outputs": [],
   "source": [
    "header_strings, header_numeric = header_names[columns_strings], header_names[columns_numeric]"
   ]
  },
  {
   "cell_type": "code",
   "execution_count": 13,
   "id": "69f86bd6",
   "metadata": {},
   "outputs": [
    {
     "data": {
      "text/plain": [
       "array(['Formatted Date', 'Summary', 'Precip Type'], dtype='<U20')"
      ]
     },
     "execution_count": 13,
     "metadata": {},
     "output_type": "execute_result"
    }
   ],
   "source": [
    "header_strings"
   ]
  },
  {
   "cell_type": "code",
   "execution_count": 14,
   "id": "ef3925d1",
   "metadata": {},
   "outputs": [
    {
     "data": {
      "text/plain": [
       "array(['Temperature (C)', 'Wind Speed (km/h)', 'Pressure (millibars)', 'Humidity'], dtype='<U20')"
      ]
     },
     "execution_count": 14,
     "metadata": {},
     "output_type": "execute_result"
    }
   ],
   "source": [
    "header_numeric"
   ]
  },
  {
   "cell_type": "markdown",
   "id": "effa7ba5",
   "metadata": {},
   "source": [
    "### Creating Checkpoints"
   ]
  },
  {
   "cell_type": "code",
   "execution_count": 15,
   "id": "13ebf871",
   "metadata": {},
   "outputs": [],
   "source": [
    "def checkpoint(file_name, checkpoint_header, checkpoint_data):\n",
    "    np.savez(file_name, header = checkpoint_header, data = checkpoint_data)\n",
    "    checkpoint_variable = np.load(file_name + \".npz\")\n",
    "    return (checkpoint_variable)"
   ]
  },
  {
   "cell_type": "code",
   "execution_count": 16,
   "id": "8ee7cbc1",
   "metadata": {},
   "outputs": [],
   "source": [
    "checkpoint_test = checkpoint(\"checkpoint-test\", header_strings, weather_data_string)"
   ]
  },
  {
   "cell_type": "code",
   "execution_count": 17,
   "id": "f45ad0d9",
   "metadata": {},
   "outputs": [
    {
     "data": {
      "text/plain": [
       "array([['2006-04-01 00:00:00.000 +0200', 'Partly Cloudy', 'rain'],\n",
       "       ['2006-04-01 01:00:00.000 +0200', 'Partly Cloudy', 'rain'],\n",
       "       ['2006-04-01 02:00:00.000 +0200', 'Mostly Cloudy', 'rain'],\n",
       "       ...,\n",
       "       ['2016-09-09 21:00:00.000 +0200', 'Partly Cloudy', 'rain'],\n",
       "       ['2016-09-09 22:00:00.000 +0200', 'Partly Cloudy', 'rain'],\n",
       "       ['2016-09-09 23:00:00.000 +0200', 'Partly Cloudy', 'rain']], dtype='<U35')"
      ]
     },
     "execution_count": 17,
     "metadata": {},
     "output_type": "execute_result"
    }
   ],
   "source": [
    "checkpoint_test[\"data\"]"
   ]
  },
  {
   "cell_type": "code",
   "execution_count": 18,
   "id": "bee23d6c",
   "metadata": {},
   "outputs": [
    {
     "data": {
      "text/plain": [
       "True"
      ]
     },
     "execution_count": 18,
     "metadata": {},
     "output_type": "execute_result"
    }
   ],
   "source": [
    "np.array_equal(checkpoint_test[\"data\"], weather_data_string)"
   ]
  },
  {
   "cell_type": "markdown",
   "id": "50b8b0ad",
   "metadata": {},
   "source": [
    "### Manipulating String Columns"
   ]
  },
  {
   "cell_type": "code",
   "execution_count": 19,
   "id": "2d75d3e4",
   "metadata": {},
   "outputs": [
    {
     "data": {
      "text/plain": [
       "array(['Formatted Date', 'Summary', 'Precip Type'], dtype='<U20')"
      ]
     },
     "execution_count": 19,
     "metadata": {},
     "output_type": "execute_result"
    }
   ],
   "source": [
    "header_strings"
   ]
  },
  {
   "cell_type": "code",
   "execution_count": 20,
   "id": "6795d392",
   "metadata": {},
   "outputs": [],
   "source": [
    "header_strings[0] = \"formatted_date\"\n",
    "header_strings[1] = \"summary\"\n",
    "header_strings[2] = \"precip_type\""
   ]
  },
  {
   "cell_type": "code",
   "execution_count": 21,
   "id": "18757712",
   "metadata": {},
   "outputs": [
    {
     "data": {
      "text/plain": [
       "array(['formatted_date', 'summary', 'precip_type'], dtype='<U20')"
      ]
     },
     "execution_count": 21,
     "metadata": {},
     "output_type": "execute_result"
    }
   ],
   "source": [
    "header_strings"
   ]
  },
  {
   "cell_type": "markdown",
   "id": "ace1fbe2",
   "metadata": {},
   "source": [
    "#### Formatted Date"
   ]
  },
  {
   "cell_type": "code",
   "execution_count": 22,
   "id": "b29e249a",
   "metadata": {
    "scrolled": true
   },
   "outputs": [
    {
     "data": {
      "text/plain": [
       "array(['2006-01-01 00:00:00.000 +0100', '2006-01-01 01:00:00.000 +0100',\n",
       "       '2006-01-01 02:00:00.000 +0100', ..., '2016-12-31 21:00:00.000 +0100',\n",
       "       '2016-12-31 22:00:00.000 +0100', '2016-12-31 23:00:00.000 +0100'], dtype='<U35')"
      ]
     },
     "execution_count": 22,
     "metadata": {},
     "output_type": "execute_result"
    }
   ],
   "source": [
    "np.unique(weather_data_string[:,0])"
   ]
  },
  {
   "cell_type": "code",
   "execution_count": 23,
   "id": "82e3bad4",
   "metadata": {},
   "outputs": [
    {
     "data": {
      "text/plain": [
       "array(['2006-04-01 00:00:00.000 +0200', '2006-04-01 01:00:00.000 +0200',\n",
       "       '2006-04-01 02:00:00.000 +0200', ..., '2016-09-09 21:00:00.000 +0200',\n",
       "       '2016-09-09 22:00:00.000 +0200', '2016-09-09 23:00:00.000 +0200'], dtype='<U35')"
      ]
     },
     "execution_count": 23,
     "metadata": {},
     "output_type": "execute_result"
    }
   ],
   "source": [
    "date_array = weather_data_string[:,0]\n",
    "date_array"
   ]
  },
  {
   "cell_type": "code",
   "execution_count": 24,
   "id": "36c8a79a",
   "metadata": {},
   "outputs": [
    {
     "data": {
      "text/plain": [
       "array(['2006-04-01', '2006-04-01', '2006-04-01', ..., '2016-09-09', '2016-09-09', '2016-09-09'],\n",
       "      dtype='<U10')"
      ]
     },
     "execution_count": 24,
     "metadata": {},
     "output_type": "execute_result"
    }
   ],
   "source": [
    "# Strip the date from the hours\n",
    "stripped_date_array = np.array([strip.split(\" \")[0] for strip in date_array])\n",
    "stripped_date_array"
   ]
  },
  {
   "cell_type": "code",
   "execution_count": 25,
   "id": "5fb82aee",
   "metadata": {},
   "outputs": [
    {
     "data": {
      "text/plain": [
       "numpy.str_"
      ]
     },
     "execution_count": 25,
     "metadata": {},
     "output_type": "execute_result"
    }
   ],
   "source": [
    "stripped_date_array.astype(dtype = np.datetime64)\n",
    "type(stripped_date_array[0])"
   ]
  },
  {
   "cell_type": "code",
   "execution_count": 26,
   "id": "bce50193",
   "metadata": {},
   "outputs": [
    {
     "data": {
      "text/plain": [
       "numpy.datetime64"
      ]
     },
     "execution_count": 26,
     "metadata": {},
     "output_type": "execute_result"
    }
   ],
   "source": [
    "# convert \"stripped_date_array\" from string into datetime\n",
    "stripped_date_array = stripped_date_array.astype(dtype = np.datetime64)\n",
    "type(stripped_date_array[0])"
   ]
  },
  {
   "cell_type": "code",
   "execution_count": 27,
   "id": "3bae5b5b",
   "metadata": {},
   "outputs": [
    {
     "data": {
      "text/plain": [
       "array(['2006-04-01', '2006-04-01', '2006-04-01', ..., '2016-09-09', '2016-09-09', '2016-09-09'],\n",
       "      dtype='datetime64[D]')"
      ]
     },
     "execution_count": 27,
     "metadata": {},
     "output_type": "execute_result"
    }
   ],
   "source": [
    "stripped_date_array"
   ]
  },
  {
   "cell_type": "code",
   "execution_count": 28,
   "id": "1d50c84f",
   "metadata": {},
   "outputs": [
    {
     "data": {
      "text/plain": [
       "array(['2006-04-01', '2006-04-01', '2006-04-01', ..., '2016-09-09', '2016-09-09', '2016-09-09'],\n",
       "      dtype='<U35')"
      ]
     },
     "execution_count": 28,
     "metadata": {},
     "output_type": "execute_result"
    }
   ],
   "source": [
    "# convert \"formatted_date\" from string into datetime\n",
    "weather_data_string[:,0] = stripped_date_array\n",
    "weather_data_string[:,0]"
   ]
  },
  {
   "cell_type": "code",
   "execution_count": 29,
   "id": "158646e6",
   "metadata": {},
   "outputs": [
    {
     "data": {
      "text/plain": [
       "array(['2006-01-01', '2006-01-02', '2006-01-03', ..., '2016-12-29', '2016-12-30', '2016-12-31'],\n",
       "      dtype='<U35')"
      ]
     },
     "execution_count": 29,
     "metadata": {},
     "output_type": "execute_result"
    }
   ],
   "source": [
    "np.unique(weather_data_string[:,0])"
   ]
  },
  {
   "cell_type": "markdown",
   "id": "ca65aa89",
   "metadata": {},
   "source": [
    "#### Summary"
   ]
  },
  {
   "cell_type": "code",
   "execution_count": 30,
   "id": "286a8dc9",
   "metadata": {
    "scrolled": true
   },
   "outputs": [
    {
     "data": {
      "text/plain": [
       "array(['Breezy', 'Breezy and Dry', 'Breezy and Foggy', 'Breezy and Mostly Cloudy',\n",
       "       'Breezy and Overcast', 'Breezy and Partly Cloudy', 'Clear',\n",
       "       'Dangerously Windy and Partly Cloudy', 'Drizzle', 'Dry', 'Dry and Mostly Cloudy',\n",
       "       'Dry and Partly Cloudy', 'Foggy', 'Humid and Mostly Cloudy', 'Humid and Overcast',\n",
       "       'Humid and Partly Cloudy', 'Light Rain', 'Mostly Cloudy', 'Overcast', 'Partly Cloudy',\n",
       "       'Rain', 'Windy', 'Windy and Dry', 'Windy and Foggy', 'Windy and Mostly Cloudy',\n",
       "       'Windy and Overcast', 'Windy and Partly Cloudy'], dtype='<U35')"
      ]
     },
     "execution_count": 30,
     "metadata": {},
     "output_type": "execute_result"
    }
   ],
   "source": [
    "np.unique(weather_data_string[:,1])"
   ]
  },
  {
   "cell_type": "code",
   "execution_count": 31,
   "id": "95c68e3d",
   "metadata": {
    "scrolled": true
   },
   "outputs": [
    {
     "data": {
      "text/plain": [
       "27"
      ]
     },
     "execution_count": 31,
     "metadata": {},
     "output_type": "execute_result"
    }
   ],
   "source": [
    "len(np.unique(weather_data_string[:,1]))"
   ]
  },
  {
   "cell_type": "code",
   "execution_count": 32,
   "id": "071e68ca",
   "metadata": {
    "scrolled": true
   },
   "outputs": [
    {
     "data": {
      "text/plain": [
       "array(['Breezy', 'Breezy and Dry', 'Breezy and Foggy', 'Breezy and Mostly Cloudy',\n",
       "       'Breezy and Overcast', 'Breezy and Partly Cloudy', 'Clear',\n",
       "       'Dangerously Windy and Partly Cloudy', 'Drizzle', 'Dry', 'Dry and Mostly Cloudy',\n",
       "       'Dry and Partly Cloudy', 'Foggy', 'Humid and Mostly Cloudy', 'Humid and Overcast',\n",
       "       'Humid and Partly Cloudy', 'Light Rain', 'Mostly Cloudy', 'Overcast', 'Partly Cloudy',\n",
       "       'Rain', 'Windy', 'Windy and Dry', 'Windy and Foggy', 'Windy and Mostly Cloudy',\n",
       "       'Windy and Overcast', 'Windy and Partly Cloudy'], dtype='<U35')"
      ]
     },
     "execution_count": 32,
     "metadata": {},
     "output_type": "execute_result"
    }
   ],
   "source": [
    "weather_state = np.array(np.unique(weather_data_string[:,1]))\n",
    "weather_state"
   ]
  },
  {
   "cell_type": "code",
   "execution_count": 33,
   "id": "386b6246",
   "metadata": {},
   "outputs": [],
   "source": [
    "keys = list(np.unique(weather_data_string[:,1]))\n",
    "values = list(range(1, np.unique(weather_data_string[:,1]).shape[0] + 1))\n",
    "weather_state_dict = dict(zip(keys, values))"
   ]
  },
  {
   "cell_type": "code",
   "execution_count": 34,
   "id": "a03315c0",
   "metadata": {},
   "outputs": [
    {
     "data": {
      "text/plain": [
       "{'Breezy': 1,\n",
       " 'Breezy and Dry': 2,\n",
       " 'Breezy and Foggy': 3,\n",
       " 'Breezy and Mostly Cloudy': 4,\n",
       " 'Breezy and Overcast': 5,\n",
       " 'Breezy and Partly Cloudy': 6,\n",
       " 'Clear': 7,\n",
       " 'Dangerously Windy and Partly Cloudy': 8,\n",
       " 'Drizzle': 9,\n",
       " 'Dry': 10,\n",
       " 'Dry and Mostly Cloudy': 11,\n",
       " 'Dry and Partly Cloudy': 12,\n",
       " 'Foggy': 13,\n",
       " 'Humid and Mostly Cloudy': 14,\n",
       " 'Humid and Overcast': 15,\n",
       " 'Humid and Partly Cloudy': 16,\n",
       " 'Light Rain': 17,\n",
       " 'Mostly Cloudy': 18,\n",
       " 'Overcast': 19,\n",
       " 'Partly Cloudy': 20,\n",
       " 'Rain': 21,\n",
       " 'Windy': 22,\n",
       " 'Windy and Dry': 23,\n",
       " 'Windy and Foggy': 24,\n",
       " 'Windy and Mostly Cloudy': 25,\n",
       " 'Windy and Overcast': 26,\n",
       " 'Windy and Partly Cloudy': 27}"
      ]
     },
     "execution_count": 34,
     "metadata": {},
     "output_type": "execute_result"
    }
   ],
   "source": [
    "weather_state_dict"
   ]
  },
  {
   "cell_type": "code",
   "execution_count": 35,
   "id": "e22b9d0e",
   "metadata": {},
   "outputs": [
    {
     "data": {
      "text/plain": [
       "array(['20', '20', '18', ..., '20', '20', '20'], dtype='<U35')"
      ]
     },
     "execution_count": 35,
     "metadata": {},
     "output_type": "execute_result"
    }
   ],
   "source": [
    "# converting weather states from a string into numbers\n",
    "for i in np.unique(weather_data_string[:,1]):\n",
    "    weather_data_string[:,1] = np.where(weather_data_string[:,1] == i,\n",
    "                                      weather_state_dict[i],\n",
    "                                      weather_data_string[:,1])\n",
    "weather_data_string[:,1]"
   ]
  },
  {
   "cell_type": "code",
   "execution_count": 36,
   "id": "ea7ce67c",
   "metadata": {
    "scrolled": true
   },
   "outputs": [
    {
     "data": {
      "text/plain": [
       "array(['1', '10', '11', '12', '13', '14', '15', '16', '17', '18', '19', '2', '20', '21', '22',\n",
       "       '23', '24', '25', '26', '27', '3', '4', '5', '6', '7', '8', '9'], dtype='<U35')"
      ]
     },
     "execution_count": 36,
     "metadata": {},
     "output_type": "execute_result"
    }
   ],
   "source": [
    "np.unique(weather_data_string[:,1])"
   ]
  },
  {
   "cell_type": "markdown",
   "id": "d0f73356",
   "metadata": {},
   "source": [
    "#### Precip Type"
   ]
  },
  {
   "cell_type": "code",
   "execution_count": 37,
   "id": "b329d882",
   "metadata": {},
   "outputs": [
    {
     "data": {
      "text/plain": [
       "array(['null', 'rain', 'snow'], dtype='<U35')"
      ]
     },
     "execution_count": 37,
     "metadata": {},
     "output_type": "execute_result"
    }
   ],
   "source": [
    "np.unique(weather_data_string[:,2])"
   ]
  },
  {
   "cell_type": "code",
   "execution_count": 38,
   "id": "d2bfc26e",
   "metadata": {},
   "outputs": [],
   "source": [
    "# converting precip type from string into numbers\n",
    "weather_data_string[:,2] = np.where(weather_data_string[:,2] == 'null', 0, weather_data_string[:,2])\n",
    "weather_data_string[:,2] = np.where(weather_data_string[:,2] == 'rain', 1, weather_data_string[:,2])\n",
    "weather_data_string[:,2] = np.where(weather_data_string[:,2] == 'snow', 2, weather_data_string[:,2])"
   ]
  },
  {
   "cell_type": "code",
   "execution_count": 39,
   "id": "8f9361a3",
   "metadata": {},
   "outputs": [
    {
     "data": {
      "text/plain": [
       "array(['0', '1', '2'], dtype='<U35')"
      ]
     },
     "execution_count": 39,
     "metadata": {},
     "output_type": "execute_result"
    }
   ],
   "source": [
    "np.unique(weather_data_string[:,2])"
   ]
  },
  {
   "cell_type": "markdown",
   "id": "6d39c82d",
   "metadata": {},
   "source": [
    "### Checkpoint 1: Strings"
   ]
  },
  {
   "cell_type": "code",
   "execution_count": 40,
   "id": "e34336d4",
   "metadata": {},
   "outputs": [
    {
     "data": {
      "text/plain": [
       "NpzFile 'checkpoint-strings.npz' with keys: header, data"
      ]
     },
     "execution_count": 40,
     "metadata": {},
     "output_type": "execute_result"
    }
   ],
   "source": [
    "checkpoint(\"checkpoint-strings\", header_strings, weather_data_string)"
   ]
  },
  {
   "cell_type": "code",
   "execution_count": 41,
   "id": "b290b72c",
   "metadata": {},
   "outputs": [],
   "source": [
    "checkpoint_strings = checkpoint(\"checkpoint-strings\", header_strings, weather_data_string)"
   ]
  },
  {
   "cell_type": "code",
   "execution_count": 42,
   "id": "b98c6394",
   "metadata": {},
   "outputs": [
    {
     "data": {
      "text/plain": [
       "array(['formatted_date', 'summary', 'precip_type'], dtype='<U20')"
      ]
     },
     "execution_count": 42,
     "metadata": {},
     "output_type": "execute_result"
    }
   ],
   "source": [
    "checkpoint_strings[\"header\"]"
   ]
  },
  {
   "cell_type": "code",
   "execution_count": 43,
   "id": "bef9739f",
   "metadata": {},
   "outputs": [
    {
     "data": {
      "text/plain": [
       "array([['2006-04-01', '20', '1'],\n",
       "       ['2006-04-01', '20', '1'],\n",
       "       ['2006-04-01', '18', '1'],\n",
       "       ...,\n",
       "       ['2016-09-09', '20', '1'],\n",
       "       ['2016-09-09', '20', '1'],\n",
       "       ['2016-09-09', '20', '1']], dtype='<U35')"
      ]
     },
     "execution_count": 43,
     "metadata": {},
     "output_type": "execute_result"
    }
   ],
   "source": [
    "checkpoint_strings[\"data\"]"
   ]
  },
  {
   "cell_type": "code",
   "execution_count": 44,
   "id": "75fbefcb",
   "metadata": {},
   "outputs": [
    {
     "data": {
      "text/plain": [
       "True"
      ]
     },
     "execution_count": 44,
     "metadata": {},
     "output_type": "execute_result"
    }
   ],
   "source": [
    "np.array_equal(checkpoint_strings[\"data\"], weather_data_string)"
   ]
  },
  {
   "cell_type": "markdown",
   "id": "88bdfc09",
   "metadata": {},
   "source": [
    "### Manipulating Numeric Columns"
   ]
  },
  {
   "cell_type": "code",
   "execution_count": 45,
   "id": "5b8f6163",
   "metadata": {},
   "outputs": [
    {
     "data": {
      "text/plain": [
       "array(['Temperature (C)', 'Wind Speed (km/h)', 'Pressure (millibars)', 'Humidity'], dtype='<U20')"
      ]
     },
     "execution_count": 45,
     "metadata": {},
     "output_type": "execute_result"
    }
   ],
   "source": [
    "header_numeric"
   ]
  },
  {
   "cell_type": "code",
   "execution_count": 46,
   "id": "bcb769d9",
   "metadata": {},
   "outputs": [],
   "source": [
    "header_numeric[0] = \"temperature_C\"\n",
    "header_numeric[1] = \"wind_speed_km_h\"\n",
    "header_numeric[2] = \"pressure_millibars\"\n",
    "header_numeric[3] = \"humidity\""
   ]
  },
  {
   "cell_type": "code",
   "execution_count": 47,
   "id": "20d682c9",
   "metadata": {
    "scrolled": true
   },
   "outputs": [
    {
     "data": {
      "text/plain": [
       "array(['temperature_C', 'wind_speed_km_h', 'pressure_millibars', 'humidity'], dtype='<U20')"
      ]
     },
     "execution_count": 47,
     "metadata": {},
     "output_type": "execute_result"
    }
   ],
   "source": [
    "header_numeric"
   ]
  },
  {
   "cell_type": "markdown",
   "id": "e23ca8d1",
   "metadata": {},
   "source": [
    "#### Means Of Each Season Of The Year In England"
   ]
  },
  {
   "cell_type": "code",
   "execution_count": 48,
   "id": "76dad51f",
   "metadata": {},
   "outputs": [
    {
     "data": {
      "text/plain": [
       "array([4, 4, 4, ..., 9, 9, 9])"
      ]
     },
     "execution_count": 48,
     "metadata": {},
     "output_type": "execute_result"
    }
   ],
   "source": [
    "# winter -> December (12) - February (2)\n",
    "# spring -> March (3) - May (5)\n",
    "# summer -> June (6) - August (8)\n",
    "# autumn -> September (9) -> November (11)\n",
    "\n",
    "month_numbers = weather_data_string[:,0].astype('datetime64[M]').astype(int) % 12 + 1\n",
    "month_numbers"
   ]
  },
  {
   "cell_type": "code",
   "execution_count": 49,
   "id": "5ed7b2b1",
   "metadata": {},
   "outputs": [],
   "source": [
    "winter = [12, 1, 2]\n",
    "spring = [3, 4, 5]\n",
    "summer = [6, 7, 8]\n",
    "autumn = [9, 10, 11]\n",
    "\n",
    "winter_indices = np.argwhere(np.isin(month_numbers, winter))\n",
    "spring_indices = np.argwhere(np.isin(month_numbers, spring))\n",
    "summer_indices = np.argwhere(np.isin(month_numbers, summer))\n",
    "autumn_indices = np.argwhere(np.isin(month_numbers, autumn))"
   ]
  },
  {
   "cell_type": "code",
   "execution_count": 50,
   "id": "29b4fd60",
   "metadata": {
    "scrolled": false
   },
   "outputs": [
    {
     "data": {
      "text/plain": [
       "array([[ 1464],\n",
       "       [ 1465],\n",
       "       [ 1466],\n",
       "       ...,\n",
       "       [91314],\n",
       "       [91315],\n",
       "       [91316]], dtype=int64)"
      ]
     },
     "execution_count": 50,
     "metadata": {},
     "output_type": "execute_result"
    }
   ],
   "source": [
    "winter_indices"
   ]
  },
  {
   "cell_type": "code",
   "execution_count": 51,
   "id": "76b4be8c",
   "metadata": {},
   "outputs": [
    {
     "data": {
      "text/plain": [
       "array(['2006-12-01', '19', '1'], dtype='<U35')"
      ]
     },
     "execution_count": 51,
     "metadata": {},
     "output_type": "execute_result"
    }
   ],
   "source": [
    "weather_data_string[1464,:]"
   ]
  },
  {
   "cell_type": "code",
   "execution_count": 52,
   "id": "7488d64a",
   "metadata": {},
   "outputs": [],
   "source": [
    "winter_mean = np.mean(weather_data_numeric[winter_indices,:], axis=0)\n",
    "spring_mean = np.mean(weather_data_numeric[spring_indices,:], axis=0)\n",
    "summer_mean = np.mean(weather_data_numeric[summer_indices,:], axis=0)\n",
    "autumn_mean = np.mean(weather_data_numeric[autumn_indices,:], axis=0)"
   ]
  },
  {
   "cell_type": "code",
   "execution_count": 53,
   "id": "c3b7b58b",
   "metadata": {
    "scrolled": true
   },
   "outputs": [
    {
     "name": "stdout",
     "output_type": "stream",
     "text": [
      "Winter Mean ->  [[  1.52  11.58 998.49   0.85]]\n",
      "Spring Mean ->  [[  12.18   12.09 1004.96    0.68]]\n",
      "Summer Mean ->  [[  22.02    9.4  1004.08    0.65]]\n",
      "Autumn Mean ->  [[  11.81   10.19 1005.34    0.76]]\n"
     ]
    }
   ],
   "source": [
    "print(\"Winter Mean -> \" , winter_mean)\n",
    "print(\"Spring Mean -> \" , spring_mean)\n",
    "print(\"Summer Mean -> \" , summer_mean)\n",
    "print(\"Autumn Mean -> \" , autumn_mean)"
   ]
  },
  {
   "cell_type": "markdown",
   "id": "ea4b3322",
   "metadata": {},
   "source": [
    "#### Temperature"
   ]
  },
  {
   "cell_type": "code",
   "execution_count": 54,
   "id": "bea9ea96",
   "metadata": {},
   "outputs": [
    {
     "data": {
      "text/plain": [
       "array([-21.82, -21.11, -20.78, ...,  38.98,  39.59,  39.91])"
      ]
     },
     "execution_count": 54,
     "metadata": {},
     "output_type": "execute_result"
    }
   ],
   "source": [
    "np.unique(weather_data_numeric[:,0])"
   ]
  },
  {
   "cell_type": "code",
   "execution_count": 55,
   "id": "65e17a08",
   "metadata": {},
   "outputs": [
    {
     "data": {
      "text/plain": [
       "0"
      ]
     },
     "execution_count": 55,
     "metadata": {},
     "output_type": "execute_result"
    }
   ],
   "source": [
    "np.isnan(weather_data_numeric[:,0]).sum()"
   ]
  },
  {
   "cell_type": "markdown",
   "id": "4a746012",
   "metadata": {},
   "source": [
    "There's nothing to modify in Temperature column , Everything is fine."
   ]
  },
  {
   "cell_type": "markdown",
   "id": "454a259a",
   "metadata": {},
   "source": [
    "#### Wind Speed"
   ]
  },
  {
   "cell_type": "code",
   "execution_count": 56,
   "id": "1d340c0c",
   "metadata": {},
   "outputs": [
    {
     "data": {
      "text/plain": [
       "array([ 0.  ,  0.03,  0.05, ..., 54.88, 55.93, 63.85])"
      ]
     },
     "execution_count": 56,
     "metadata": {},
     "output_type": "execute_result"
    }
   ],
   "source": [
    "np.unique(weather_data_numeric[:,1])"
   ]
  },
  {
   "cell_type": "code",
   "execution_count": 57,
   "id": "e3dc21e9",
   "metadata": {},
   "outputs": [
    {
     "data": {
      "text/plain": [
       "0"
      ]
     },
     "execution_count": 57,
     "metadata": {},
     "output_type": "execute_result"
    }
   ],
   "source": [
    "np.isnan(weather_data_numeric[:,1]).sum()"
   ]
  },
  {
   "cell_type": "code",
   "execution_count": 58,
   "id": "dd19456d",
   "metadata": {
    "scrolled": true
   },
   "outputs": [
    {
     "data": {
      "text/plain": [
       "array([[  381],\n",
       "       [  390],\n",
       "       [ 1014],\n",
       "       ...,\n",
       "       [96313],\n",
       "       [96403],\n",
       "       [96424]], dtype=int64)"
      ]
     },
     "execution_count": 58,
     "metadata": {},
     "output_type": "execute_result"
    }
   ],
   "source": [
    "np.argwhere(weather_data_numeric[:,1] == 0)"
   ]
  },
  {
   "cell_type": "code",
   "execution_count": 59,
   "id": "c87a1a26",
   "metadata": {
    "scrolled": true
   },
   "outputs": [
    {
     "data": {
      "text/plain": [
       "array([  13.96,    0.  , 1016.01,    0.82])"
      ]
     },
     "execution_count": 59,
     "metadata": {},
     "output_type": "execute_result"
    }
   ],
   "source": [
    "weather_data_numeric[381,:]"
   ]
  },
  {
   "cell_type": "markdown",
   "id": "72085b9b",
   "metadata": {},
   "source": [
    "After searching it's not possible for 'Wind Speed' to become = 0 in England"
   ]
  },
  {
   "cell_type": "code",
   "execution_count": 60,
   "id": "87a00c0c",
   "metadata": {
    "scrolled": true
   },
   "outputs": [
    {
     "data": {
      "text/plain": [
       "array([14.12, 14.26,  3.93, ...,  8.98, 10.53,  5.88])"
      ]
     },
     "execution_count": 60,
     "metadata": {},
     "output_type": "execute_result"
    }
   ],
   "source": [
    "for season_indices, mean_values in zip([winter_indices, spring_indices, summer_indices, autumn_indices], [winter_mean, spring_mean, summer_mean, autumn_mean]):\n",
    "    condition = (weather_data_numeric[:, 1] <= 0) & (np.isin(np.arange(len(weather_data_numeric)), season_indices))\n",
    "    weather_data_numeric[:, 1] = np.where(condition, mean_values[0][1], weather_data_numeric[:, 1])\n",
    "\n",
    "weather_data_numeric[:, 1]"
   ]
  },
  {
   "cell_type": "code",
   "execution_count": 61,
   "id": "3b2e9c35",
   "metadata": {
    "scrolled": true
   },
   "outputs": [
    {
     "data": {
      "text/plain": [
       "array([], shape=(0, 1), dtype=int64)"
      ]
     },
     "execution_count": 61,
     "metadata": {},
     "output_type": "execute_result"
    }
   ],
   "source": [
    "np.argwhere(weather_data_numeric[:,1] <= 0)"
   ]
  },
  {
   "cell_type": "code",
   "execution_count": 62,
   "id": "b34e58bb",
   "metadata": {},
   "outputs": [
    {
     "name": "stdout",
     "output_type": "stream",
     "text": [
      "12.087463788771204\n",
      "2006-04-23\n",
      "-----------------------------\n",
      "10.186586220095773\n",
      "2016-09-04\n"
     ]
    }
   ],
   "source": [
    "# to be sure that every 0 cell changed to the value based on it's season\n",
    "print(weather_data_numeric[381,1])\n",
    "print(weather_data_string[381,0])\n",
    "print(\"-----------------------------\")\n",
    "print(weather_data_numeric[96313,1])\n",
    "print(weather_data_string[96313,0])"
   ]
  },
  {
   "cell_type": "markdown",
   "id": "b5b82ff4",
   "metadata": {},
   "source": [
    "#### Pressure"
   ]
  },
  {
   "cell_type": "code",
   "execution_count": 63,
   "id": "70e5e0d4",
   "metadata": {},
   "outputs": [
    {
     "data": {
      "text/plain": [
       "array([   0.  ,  973.78,  974.52, ..., 1046.06, 1046.26, 1046.38])"
      ]
     },
     "execution_count": 63,
     "metadata": {},
     "output_type": "execute_result"
    }
   ],
   "source": [
    "np.unique(weather_data_numeric[:,2])"
   ]
  },
  {
   "cell_type": "code",
   "execution_count": 64,
   "id": "a0c7131b",
   "metadata": {},
   "outputs": [
    {
     "data": {
      "text/plain": [
       "0"
      ]
     },
     "execution_count": 64,
     "metadata": {},
     "output_type": "execute_result"
    }
   ],
   "source": [
    "np.isnan(weather_data_numeric[:,2]).sum()"
   ]
  },
  {
   "cell_type": "code",
   "execution_count": 65,
   "id": "1ef4d163",
   "metadata": {
    "scrolled": false
   },
   "outputs": [
    {
     "data": {
      "text/plain": [
       "array([[  858],\n",
       "       [  874],\n",
       "       [  924],\n",
       "       ...,\n",
       "       [93150],\n",
       "       [93152],\n",
       "       [93153]], dtype=int64)"
      ]
     },
     "execution_count": 65,
     "metadata": {},
     "output_type": "execute_result"
    }
   ],
   "source": [
    "np.argwhere(weather_data_numeric[:,2] <= 0)"
   ]
  },
  {
   "cell_type": "markdown",
   "id": "6ee4282a",
   "metadata": {},
   "source": [
    "After searching it's not possible for 'Pressure' to become = 0 in England"
   ]
  },
  {
   "cell_type": "code",
   "execution_count": 66,
   "id": "1cd5fd86",
   "metadata": {},
   "outputs": [
    {
     "data": {
      "text/plain": [
       "array([1015.13, 1015.63, 1015.94, ..., 1015.66, 1015.95, 1016.16])"
      ]
     },
     "execution_count": 66,
     "metadata": {},
     "output_type": "execute_result"
    }
   ],
   "source": [
    "for season_indices, mean_values in zip([winter_indices, spring_indices, summer_indices, autumn_indices], [winter_mean, spring_mean, summer_mean, autumn_mean]):\n",
    "    condition = (weather_data_numeric[:, 2] <= 0) & (np.isin(np.arange(len(weather_data_numeric)), season_indices))\n",
    "    weather_data_numeric[:, 2] = np.where(condition, mean_values[0][2], weather_data_numeric[:, 2])\n",
    "\n",
    "weather_data_numeric[:, 2]"
   ]
  },
  {
   "cell_type": "code",
   "execution_count": 67,
   "id": "ca50af79",
   "metadata": {},
   "outputs": [
    {
     "data": {
      "text/plain": [
       "array([], shape=(0, 1), dtype=int64)"
      ]
     },
     "execution_count": 67,
     "metadata": {},
     "output_type": "execute_result"
    }
   ],
   "source": [
    "np.argwhere(weather_data_numeric[:,2] <= 0)"
   ]
  },
  {
   "cell_type": "code",
   "execution_count": 68,
   "id": "f8d0ed3c",
   "metadata": {},
   "outputs": [
    {
     "name": "stdout",
     "output_type": "stream",
     "text": [
      "1004.0764280719063\n",
      "2006-08-14\n",
      "-----------------------------\n",
      "1004.963207974622\n",
      "2016-03-23\n"
     ]
    }
   ],
   "source": [
    "# to be sure that every 0 cell changed to the value based on it's season\n",
    "print(weather_data_numeric[858,2])\n",
    "print(weather_data_string[858,0])\n",
    "print(\"-----------------------------\")\n",
    "print(weather_data_numeric[93150,2])\n",
    "print(weather_data_string[93150,0])"
   ]
  },
  {
   "cell_type": "markdown",
   "id": "f670531c",
   "metadata": {},
   "source": [
    "#### Humidity"
   ]
  },
  {
   "cell_type": "code",
   "execution_count": 69,
   "id": "7d6dc13f",
   "metadata": {},
   "outputs": [
    {
     "data": {
      "text/plain": [
       "array([0.  , 0.12, 0.13, 0.14, 0.15, 0.16, 0.17, 0.18, 0.19, 0.2 , 0.21, 0.22, 0.23, 0.24, 0.25,\n",
       "       0.26, 0.27, 0.28, 0.29, 0.3 , 0.31, 0.32, 0.33, 0.34, 0.35, 0.36, 0.37, 0.38, 0.39, 0.4 ,\n",
       "       0.41, 0.42, 0.43, 0.44, 0.45, 0.46, 0.47, 0.48, 0.49, 0.5 , 0.51, 0.52, 0.53, 0.54, 0.55,\n",
       "       0.56, 0.57, 0.58, 0.59, 0.6 , 0.61, 0.62, 0.63, 0.64, 0.65, 0.66, 0.67, 0.68, 0.69, 0.7 ,\n",
       "       0.71, 0.72, 0.73, 0.74, 0.75, 0.76, 0.77, 0.78, 0.79, 0.8 , 0.81, 0.82, 0.83, 0.84, 0.85,\n",
       "       0.86, 0.87, 0.88, 0.89, 0.9 , 0.91, 0.92, 0.93, 0.94, 0.95, 0.96, 0.97, 0.98, 0.99, 1.  ])"
      ]
     },
     "execution_count": 69,
     "metadata": {},
     "output_type": "execute_result"
    }
   ],
   "source": [
    "np.unique(weather_data_numeric[:,3])"
   ]
  },
  {
   "cell_type": "code",
   "execution_count": 70,
   "id": "a6d61665",
   "metadata": {},
   "outputs": [
    {
     "data": {
      "text/plain": [
       "0"
      ]
     },
     "execution_count": 70,
     "metadata": {},
     "output_type": "execute_result"
    }
   ],
   "source": [
    "np.isnan(weather_data_numeric[:,3]).sum()"
   ]
  },
  {
   "cell_type": "markdown",
   "id": "19671fb6",
   "metadata": {},
   "source": [
    "There's nothing to modify in Humidity column , Everything is fine."
   ]
  },
  {
   "cell_type": "markdown",
   "id": "59707025",
   "metadata": {},
   "source": [
    "### Checkpoint2: Numeric"
   ]
  },
  {
   "cell_type": "code",
   "execution_count": 71,
   "id": "2e6abe4f",
   "metadata": {},
   "outputs": [
    {
     "data": {
      "text/plain": [
       "NpzFile 'checkpoint-numeric.npz' with keys: header, data"
      ]
     },
     "execution_count": 71,
     "metadata": {},
     "output_type": "execute_result"
    }
   ],
   "source": [
    "checkpoint(\"checkpoint-numeric\", header_numeric, weather_data_numeric)"
   ]
  },
  {
   "cell_type": "code",
   "execution_count": 72,
   "id": "8667ca93",
   "metadata": {},
   "outputs": [],
   "source": [
    "checkpoint_numeric = checkpoint(\"checkpoint-umeric\", header_numeric, weather_data_numeric)"
   ]
  },
  {
   "cell_type": "code",
   "execution_count": 73,
   "id": "f46cfe5f",
   "metadata": {},
   "outputs": [
    {
     "data": {
      "text/plain": [
       "array(['temperature_C', 'wind_speed_km_h', 'pressure_millibars', 'humidity'], dtype='<U20')"
      ]
     },
     "execution_count": 73,
     "metadata": {},
     "output_type": "execute_result"
    }
   ],
   "source": [
    "checkpoint_numeric['header']"
   ]
  },
  {
   "cell_type": "code",
   "execution_count": 74,
   "id": "7248de15",
   "metadata": {},
   "outputs": [
    {
     "data": {
      "text/plain": [
       "array([[   9.47,   14.12, 1015.13,    0.89],\n",
       "       [   9.36,   14.26, 1015.63,    0.86],\n",
       "       [   9.38,    3.93, 1015.94,    0.89],\n",
       "       ...,\n",
       "       [  22.04,    8.98, 1015.66,    0.56],\n",
       "       [  21.52,   10.53, 1015.95,    0.6 ],\n",
       "       [  20.44,    5.88, 1016.16,    0.61]])"
      ]
     },
     "execution_count": 74,
     "metadata": {},
     "output_type": "execute_result"
    }
   ],
   "source": [
    "checkpoint_numeric['data']"
   ]
  },
  {
   "cell_type": "code",
   "execution_count": 75,
   "id": "de29e8c6",
   "metadata": {},
   "outputs": [
    {
     "data": {
      "text/plain": [
       "True"
      ]
     },
     "execution_count": 75,
     "metadata": {},
     "output_type": "execute_result"
    }
   ],
   "source": [
    "np.array_equal(checkpoint_numeric[\"data\"], weather_data_numeric)"
   ]
  },
  {
   "cell_type": "markdown",
   "id": "d548263e",
   "metadata": {},
   "source": [
    "### Creating The Complete Dataset"
   ]
  },
  {
   "cell_type": "code",
   "execution_count": 76,
   "id": "2fd38029",
   "metadata": {},
   "outputs": [
    {
     "data": {
      "text/plain": [
       "(96453, 3)"
      ]
     },
     "execution_count": 76,
     "metadata": {},
     "output_type": "execute_result"
    }
   ],
   "source": [
    "checkpoint_strings[\"data\"].shape"
   ]
  },
  {
   "cell_type": "code",
   "execution_count": 77,
   "id": "a4954c73",
   "metadata": {},
   "outputs": [
    {
     "data": {
      "text/plain": [
       "(96453, 4)"
      ]
     },
     "execution_count": 77,
     "metadata": {},
     "output_type": "execute_result"
    }
   ],
   "source": [
    "checkpoint_numeric[\"data\"].shape"
   ]
  },
  {
   "cell_type": "code",
   "execution_count": 78,
   "id": "58501331",
   "metadata": {},
   "outputs": [
    {
     "data": {
      "text/plain": [
       "array([['2006-04-01', '20', '1', ..., '14.1197', '1015.13', '0.89'],\n",
       "       ['2006-04-01', '20', '1', ..., '14.2646', '1015.63', '0.86'],\n",
       "       ['2006-04-01', '18', '1', ..., '3.9284', '1015.94', '0.89'],\n",
       "       ...,\n",
       "       ['2016-09-09', '20', '1', ..., '8.9838', '1015.66', '0.56'],\n",
       "       ['2016-09-09', '20', '1', ..., '10.5294', '1015.95', '0.6'],\n",
       "       ['2016-09-09', '20', '1', ..., '5.8765', '1016.16', '0.61']], dtype='<U35')"
      ]
     },
     "execution_count": 78,
     "metadata": {},
     "output_type": "execute_result"
    }
   ],
   "source": [
    "np.hstack((checkpoint_strings[\"data\"], checkpoint_numeric[\"data\"]))"
   ]
  },
  {
   "cell_type": "code",
   "execution_count": 79,
   "id": "7a500607",
   "metadata": {},
   "outputs": [
    {
     "data": {
      "text/plain": [
       "(96453, 7)"
      ]
     },
     "execution_count": 79,
     "metadata": {},
     "output_type": "execute_result"
    }
   ],
   "source": [
    "np.hstack((checkpoint_strings[\"data\"], checkpoint_numeric[\"data\"])).shape"
   ]
  },
  {
   "cell_type": "code",
   "execution_count": 80,
   "id": "ea7abb79",
   "metadata": {},
   "outputs": [
    {
     "data": {
      "text/plain": [
       "array([['2006-04-01', '20', '1', ..., '14.1197', '1015.13', '0.89'],\n",
       "       ['2006-04-01', '20', '1', ..., '14.2646', '1015.63', '0.86'],\n",
       "       ['2006-04-01', '18', '1', ..., '3.9284', '1015.94', '0.89'],\n",
       "       ...,\n",
       "       ['2016-09-09', '20', '1', ..., '8.9838', '1015.66', '0.56'],\n",
       "       ['2016-09-09', '20', '1', ..., '10.5294', '1015.95', '0.6'],\n",
       "       ['2016-09-09', '20', '1', ..., '5.8765', '1016.16', '0.61']], dtype='<U35')"
      ]
     },
     "execution_count": 80,
     "metadata": {},
     "output_type": "execute_result"
    }
   ],
   "source": [
    "EnglandWeather_data = np.hstack((checkpoint_strings[\"data\"], checkpoint_numeric[\"data\"]))\n",
    "EnglandWeather_data"
   ]
  },
  {
   "cell_type": "code",
   "execution_count": 81,
   "id": "9b68211a",
   "metadata": {},
   "outputs": [
    {
     "data": {
      "text/plain": [
       "array(['formatted_date', 'summary', 'precip_type', 'temperature_C', 'wind_speed_km_h',\n",
       "       'pressure_millibars', 'humidity'], dtype='<U20')"
      ]
     },
     "execution_count": 81,
     "metadata": {},
     "output_type": "execute_result"
    }
   ],
   "source": [
    "np.concatenate((checkpoint_strings[\"header\"], checkpoint_numeric[\"header\"]))"
   ]
  },
  {
   "cell_type": "code",
   "execution_count": 82,
   "id": "980c61f0",
   "metadata": {},
   "outputs": [
    {
     "data": {
      "text/plain": [
       "array(['formatted_date', 'summary', 'precip_type', 'temperature_C', 'wind_speed_km_h',\n",
       "       'pressure_millibars', 'humidity'], dtype='<U20')"
      ]
     },
     "execution_count": 82,
     "metadata": {},
     "output_type": "execute_result"
    }
   ],
   "source": [
    "header_full = np.concatenate((checkpoint_strings[\"header\"], checkpoint_numeric[\"header\"]))\n",
    "header_full"
   ]
  },
  {
   "cell_type": "code",
   "execution_count": 83,
   "id": "3ec8a881",
   "metadata": {},
   "outputs": [
    {
     "data": {
      "text/plain": [
       "array([['formatted_date', 'summary', 'precip_type', ..., 'wind_speed_km_h', 'pressure_millibars',\n",
       "        'humidity'],\n",
       "       ['2006-04-01', '20', '1', ..., '14.1197', '1015.13', '0.89'],\n",
       "       ['2006-04-01', '20', '1', ..., '14.2646', '1015.63', '0.86'],\n",
       "       ...,\n",
       "       ['2016-09-09', '20', '1', ..., '8.9838', '1015.66', '0.56'],\n",
       "       ['2016-09-09', '20', '1', ..., '10.5294', '1015.95', '0.6'],\n",
       "       ['2016-09-09', '20', '1', ..., '5.8765', '1016.16', '0.61']], dtype='<U35')"
      ]
     },
     "execution_count": 83,
     "metadata": {},
     "output_type": "execute_result"
    }
   ],
   "source": [
    "np.vstack((header_full, EnglandWeather_data))"
   ]
  },
  {
   "cell_type": "code",
   "execution_count": 84,
   "id": "59dfb2e4",
   "metadata": {
    "scrolled": true
   },
   "outputs": [
    {
     "data": {
      "text/plain": [
       "array([['formatted_date', 'summary', 'precip_type', ..., 'wind_speed_km_h', 'pressure_millibars',\n",
       "        'humidity'],\n",
       "       ['2006-04-01', '20', '1', ..., '14.1197', '1015.13', '0.89'],\n",
       "       ['2006-04-01', '20', '1', ..., '14.2646', '1015.63', '0.86'],\n",
       "       ...,\n",
       "       ['2016-09-09', '20', '1', ..., '8.9838', '1015.66', '0.56'],\n",
       "       ['2016-09-09', '20', '1', ..., '10.5294', '1015.95', '0.6'],\n",
       "       ['2016-09-09', '20', '1', ..., '5.8765', '1016.16', '0.61']], dtype='<U35')"
      ]
     },
     "execution_count": 84,
     "metadata": {},
     "output_type": "execute_result"
    }
   ],
   "source": [
    "england_weather_data = np.vstack((header_full, EnglandWeather_data))\n",
    "england_weather_data"
   ]
  },
  {
   "cell_type": "markdown",
   "id": "4e2496f0",
   "metadata": {},
   "source": [
    "### Transform The Data into DataFrame"
   ]
  },
  {
   "cell_type": "code",
   "execution_count": 85,
   "id": "0184c2a8",
   "metadata": {
    "scrolled": false
   },
   "outputs": [
    {
     "data": {
      "text/html": [
       "<div>\n",
       "<style scoped>\n",
       "    .dataframe tbody tr th:only-of-type {\n",
       "        vertical-align: middle;\n",
       "    }\n",
       "\n",
       "    .dataframe tbody tr th {\n",
       "        vertical-align: top;\n",
       "    }\n",
       "\n",
       "    .dataframe thead th {\n",
       "        text-align: right;\n",
       "    }\n",
       "</style>\n",
       "<table border=\"1\" class=\"dataframe\">\n",
       "  <thead>\n",
       "    <tr style=\"text-align: right;\">\n",
       "      <th></th>\n",
       "      <th>formatted_date</th>\n",
       "      <th>summary</th>\n",
       "      <th>precip_type</th>\n",
       "      <th>temperature_C</th>\n",
       "      <th>wind_speed_km_h</th>\n",
       "      <th>pressure_millibars</th>\n",
       "      <th>humidity</th>\n",
       "    </tr>\n",
       "  </thead>\n",
       "  <tbody>\n",
       "    <tr>\n",
       "      <th>0</th>\n",
       "      <td>2006-04-01</td>\n",
       "      <td>20</td>\n",
       "      <td>1</td>\n",
       "      <td>9.472222222</td>\n",
       "      <td>14.1197</td>\n",
       "      <td>1015.13</td>\n",
       "      <td>0.89</td>\n",
       "    </tr>\n",
       "    <tr>\n",
       "      <th>1</th>\n",
       "      <td>2006-04-01</td>\n",
       "      <td>20</td>\n",
       "      <td>1</td>\n",
       "      <td>9.355555556</td>\n",
       "      <td>14.2646</td>\n",
       "      <td>1015.63</td>\n",
       "      <td>0.86</td>\n",
       "    </tr>\n",
       "    <tr>\n",
       "      <th>2</th>\n",
       "      <td>2006-04-01</td>\n",
       "      <td>18</td>\n",
       "      <td>1</td>\n",
       "      <td>9.377777778</td>\n",
       "      <td>3.9284</td>\n",
       "      <td>1015.94</td>\n",
       "      <td>0.89</td>\n",
       "    </tr>\n",
       "    <tr>\n",
       "      <th>3</th>\n",
       "      <td>2006-04-01</td>\n",
       "      <td>20</td>\n",
       "      <td>1</td>\n",
       "      <td>8.288888889</td>\n",
       "      <td>14.1036</td>\n",
       "      <td>1016.41</td>\n",
       "      <td>0.83</td>\n",
       "    </tr>\n",
       "    <tr>\n",
       "      <th>4</th>\n",
       "      <td>2006-04-01</td>\n",
       "      <td>18</td>\n",
       "      <td>1</td>\n",
       "      <td>8.755555556</td>\n",
       "      <td>11.0446</td>\n",
       "      <td>1016.51</td>\n",
       "      <td>0.83</td>\n",
       "    </tr>\n",
       "    <tr>\n",
       "      <th>...</th>\n",
       "      <td>...</td>\n",
       "      <td>...</td>\n",
       "      <td>...</td>\n",
       "      <td>...</td>\n",
       "      <td>...</td>\n",
       "      <td>...</td>\n",
       "      <td>...</td>\n",
       "    </tr>\n",
       "    <tr>\n",
       "      <th>96448</th>\n",
       "      <td>2016-09-09</td>\n",
       "      <td>20</td>\n",
       "      <td>1</td>\n",
       "      <td>26.01666667</td>\n",
       "      <td>10.9963</td>\n",
       "      <td>1014.36</td>\n",
       "      <td>0.43</td>\n",
       "    </tr>\n",
       "    <tr>\n",
       "      <th>96449</th>\n",
       "      <td>2016-09-09</td>\n",
       "      <td>20</td>\n",
       "      <td>1</td>\n",
       "      <td>24.58333333</td>\n",
       "      <td>10.0947</td>\n",
       "      <td>1015.16</td>\n",
       "      <td>0.48</td>\n",
       "    </tr>\n",
       "    <tr>\n",
       "      <th>96450</th>\n",
       "      <td>2016-09-09</td>\n",
       "      <td>20</td>\n",
       "      <td>1</td>\n",
       "      <td>22.03888889</td>\n",
       "      <td>8.9838</td>\n",
       "      <td>1015.66</td>\n",
       "      <td>0.56</td>\n",
       "    </tr>\n",
       "    <tr>\n",
       "      <th>96451</th>\n",
       "      <td>2016-09-09</td>\n",
       "      <td>20</td>\n",
       "      <td>1</td>\n",
       "      <td>21.52222222</td>\n",
       "      <td>10.5294</td>\n",
       "      <td>1015.95</td>\n",
       "      <td>0.6</td>\n",
       "    </tr>\n",
       "    <tr>\n",
       "      <th>96452</th>\n",
       "      <td>2016-09-09</td>\n",
       "      <td>20</td>\n",
       "      <td>1</td>\n",
       "      <td>20.43888889</td>\n",
       "      <td>5.8765</td>\n",
       "      <td>1016.16</td>\n",
       "      <td>0.61</td>\n",
       "    </tr>\n",
       "  </tbody>\n",
       "</table>\n",
       "<p>96453 rows × 7 columns</p>\n",
       "</div>"
      ],
      "text/plain": [
       "      formatted_date summary precip_type temperature_C wind_speed_km_h  \\\n",
       "0         2006-04-01      20           1   9.472222222         14.1197   \n",
       "1         2006-04-01      20           1   9.355555556         14.2646   \n",
       "2         2006-04-01      18           1   9.377777778          3.9284   \n",
       "3         2006-04-01      20           1   8.288888889         14.1036   \n",
       "4         2006-04-01      18           1   8.755555556         11.0446   \n",
       "...              ...     ...         ...           ...             ...   \n",
       "96448     2016-09-09      20           1   26.01666667         10.9963   \n",
       "96449     2016-09-09      20           1   24.58333333         10.0947   \n",
       "96450     2016-09-09      20           1   22.03888889          8.9838   \n",
       "96451     2016-09-09      20           1   21.52222222         10.5294   \n",
       "96452     2016-09-09      20           1   20.43888889          5.8765   \n",
       "\n",
       "      pressure_millibars humidity  \n",
       "0                1015.13     0.89  \n",
       "1                1015.63     0.86  \n",
       "2                1015.94     0.89  \n",
       "3                1016.41     0.83  \n",
       "4                1016.51     0.83  \n",
       "...                  ...      ...  \n",
       "96448            1014.36     0.43  \n",
       "96449            1015.16     0.48  \n",
       "96450            1015.66     0.56  \n",
       "96451            1015.95      0.6  \n",
       "96452            1016.16     0.61  \n",
       "\n",
       "[96453 rows x 7 columns]"
      ]
     },
     "execution_count": 85,
     "metadata": {},
     "output_type": "execute_result"
    }
   ],
   "source": [
    "england_weather_df = pd.DataFrame(england_weather_data[1:], columns = england_weather_data[0])\n",
    "england_weather_df"
   ]
  },
  {
   "cell_type": "markdown",
   "id": "c52e7ff1",
   "metadata": {},
   "source": [
    "### Get Some Information About The Data"
   ]
  },
  {
   "cell_type": "code",
   "execution_count": 86,
   "id": "28f3f796",
   "metadata": {},
   "outputs": [
    {
     "data": {
      "text/plain": [
       "(96453, 7)"
      ]
     },
     "execution_count": 86,
     "metadata": {},
     "output_type": "execute_result"
    }
   ],
   "source": [
    "england_weather_df.shape"
   ]
  },
  {
   "cell_type": "code",
   "execution_count": 87,
   "id": "c97b1785",
   "metadata": {},
   "outputs": [
    {
     "name": "stdout",
     "output_type": "stream",
     "text": [
      "<class 'pandas.core.frame.DataFrame'>\n",
      "RangeIndex: 96453 entries, 0 to 96452\n",
      "Data columns (total 7 columns):\n",
      " #   Column              Non-Null Count  Dtype \n",
      "---  ------              --------------  ----- \n",
      " 0   formatted_date      96453 non-null  object\n",
      " 1   summary             96453 non-null  object\n",
      " 2   precip_type         96453 non-null  object\n",
      " 3   temperature_C       96453 non-null  object\n",
      " 4   wind_speed_km_h     96453 non-null  object\n",
      " 5   pressure_millibars  96453 non-null  object\n",
      " 6   humidity            96453 non-null  object\n",
      "dtypes: object(7)\n",
      "memory usage: 5.2+ MB\n"
     ]
    }
   ],
   "source": [
    "england_weather_df.info()"
   ]
  },
  {
   "cell_type": "code",
   "execution_count": 88,
   "id": "94ead87e",
   "metadata": {},
   "outputs": [],
   "source": [
    "# modify the type of each data column\n",
    "england_weather_df[\"formatted_date\"] = pd.to_datetime(england_weather_df[\"formatted_date\"])\n",
    "england_weather_df[\"summary\"] = england_weather_df[\"summary\"].astype(int)\n",
    "england_weather_df[\"precip_type\"] = england_weather_df[\"precip_type\"].astype(int)\n",
    "england_weather_df[\"temperature_C\"] = england_weather_df[\"temperature_C\"].astype(float)\n",
    "england_weather_df[\"wind_speed_km_h\"] = england_weather_df[\"wind_speed_km_h\"].astype(float)\n",
    "england_weather_df[\"pressure_millibars\"] = england_weather_df[\"pressure_millibars\"].astype(float)\n",
    "england_weather_df[\"humidity\"] = england_weather_df[\"humidity\"].astype(float)"
   ]
  },
  {
   "cell_type": "code",
   "execution_count": 89,
   "id": "4d136dcc",
   "metadata": {},
   "outputs": [
    {
     "name": "stdout",
     "output_type": "stream",
     "text": [
      "<class 'pandas.core.frame.DataFrame'>\n",
      "RangeIndex: 96453 entries, 0 to 96452\n",
      "Data columns (total 7 columns):\n",
      " #   Column              Non-Null Count  Dtype         \n",
      "---  ------              --------------  -----         \n",
      " 0   formatted_date      96453 non-null  datetime64[ns]\n",
      " 1   summary             96453 non-null  int32         \n",
      " 2   precip_type         96453 non-null  int32         \n",
      " 3   temperature_C       96453 non-null  float64       \n",
      " 4   wind_speed_km_h     96453 non-null  float64       \n",
      " 5   pressure_millibars  96453 non-null  float64       \n",
      " 6   humidity            96453 non-null  float64       \n",
      "dtypes: datetime64[ns](1), float64(4), int32(2)\n",
      "memory usage: 4.4 MB\n"
     ]
    }
   ],
   "source": [
    "# be sure everything is fine\n",
    "england_weather_df.info()"
   ]
  },
  {
   "cell_type": "code",
   "execution_count": 90,
   "id": "1c9ee8ef",
   "metadata": {},
   "outputs": [
    {
     "data": {
      "text/html": [
       "<div>\n",
       "<style scoped>\n",
       "    .dataframe tbody tr th:only-of-type {\n",
       "        vertical-align: middle;\n",
       "    }\n",
       "\n",
       "    .dataframe tbody tr th {\n",
       "        vertical-align: top;\n",
       "    }\n",
       "\n",
       "    .dataframe thead th {\n",
       "        text-align: right;\n",
       "    }\n",
       "</style>\n",
       "<table border=\"1\" class=\"dataframe\">\n",
       "  <thead>\n",
       "    <tr style=\"text-align: right;\">\n",
       "      <th></th>\n",
       "      <th>formatted_date</th>\n",
       "      <th>summary</th>\n",
       "      <th>precip_type</th>\n",
       "      <th>temperature_C</th>\n",
       "      <th>wind_speed_km_h</th>\n",
       "      <th>pressure_millibars</th>\n",
       "      <th>humidity</th>\n",
       "    </tr>\n",
       "  </thead>\n",
       "  <tbody>\n",
       "    <tr>\n",
       "      <th>0</th>\n",
       "      <td>2006-04-01</td>\n",
       "      <td>20</td>\n",
       "      <td>1</td>\n",
       "      <td>9.472222</td>\n",
       "      <td>14.1197</td>\n",
       "      <td>1015.13</td>\n",
       "      <td>0.89</td>\n",
       "    </tr>\n",
       "    <tr>\n",
       "      <th>1</th>\n",
       "      <td>2006-04-01</td>\n",
       "      <td>20</td>\n",
       "      <td>1</td>\n",
       "      <td>9.355556</td>\n",
       "      <td>14.2646</td>\n",
       "      <td>1015.63</td>\n",
       "      <td>0.86</td>\n",
       "    </tr>\n",
       "    <tr>\n",
       "      <th>2</th>\n",
       "      <td>2006-04-01</td>\n",
       "      <td>18</td>\n",
       "      <td>1</td>\n",
       "      <td>9.377778</td>\n",
       "      <td>3.9284</td>\n",
       "      <td>1015.94</td>\n",
       "      <td>0.89</td>\n",
       "    </tr>\n",
       "    <tr>\n",
       "      <th>3</th>\n",
       "      <td>2006-04-01</td>\n",
       "      <td>20</td>\n",
       "      <td>1</td>\n",
       "      <td>8.288889</td>\n",
       "      <td>14.1036</td>\n",
       "      <td>1016.41</td>\n",
       "      <td>0.83</td>\n",
       "    </tr>\n",
       "    <tr>\n",
       "      <th>4</th>\n",
       "      <td>2006-04-01</td>\n",
       "      <td>18</td>\n",
       "      <td>1</td>\n",
       "      <td>8.755556</td>\n",
       "      <td>11.0446</td>\n",
       "      <td>1016.51</td>\n",
       "      <td>0.83</td>\n",
       "    </tr>\n",
       "  </tbody>\n",
       "</table>\n",
       "</div>"
      ],
      "text/plain": [
       "  formatted_date  summary  precip_type  temperature_C  wind_speed_km_h  \\\n",
       "0     2006-04-01       20            1       9.472222          14.1197   \n",
       "1     2006-04-01       20            1       9.355556          14.2646   \n",
       "2     2006-04-01       18            1       9.377778           3.9284   \n",
       "3     2006-04-01       20            1       8.288889          14.1036   \n",
       "4     2006-04-01       18            1       8.755556          11.0446   \n",
       "\n",
       "   pressure_millibars  humidity  \n",
       "0             1015.13      0.89  \n",
       "1             1015.63      0.86  \n",
       "2             1015.94      0.89  \n",
       "3             1016.41      0.83  \n",
       "4             1016.51      0.83  "
      ]
     },
     "execution_count": 90,
     "metadata": {},
     "output_type": "execute_result"
    }
   ],
   "source": [
    "england_weather_df.head()"
   ]
  },
  {
   "cell_type": "markdown",
   "id": "54d0d63a",
   "metadata": {},
   "source": [
    "## Data Analysis"
   ]
  },
  {
   "cell_type": "code",
   "execution_count": 91,
   "id": "46539ce4",
   "metadata": {},
   "outputs": [
    {
     "data": {
      "text/html": [
       "<div>\n",
       "<style scoped>\n",
       "    .dataframe tbody tr th:only-of-type {\n",
       "        vertical-align: middle;\n",
       "    }\n",
       "\n",
       "    .dataframe tbody tr th {\n",
       "        vertical-align: top;\n",
       "    }\n",
       "\n",
       "    .dataframe thead th {\n",
       "        text-align: right;\n",
       "    }\n",
       "</style>\n",
       "<table border=\"1\" class=\"dataframe\">\n",
       "  <thead>\n",
       "    <tr style=\"text-align: right;\">\n",
       "      <th></th>\n",
       "      <th>formatted_date</th>\n",
       "      <th>summary</th>\n",
       "      <th>precip_type</th>\n",
       "      <th>temperature_C</th>\n",
       "      <th>wind_speed_km_h</th>\n",
       "      <th>pressure_millibars</th>\n",
       "      <th>humidity</th>\n",
       "    </tr>\n",
       "  </thead>\n",
       "  <tbody>\n",
       "    <tr>\n",
       "      <th>12181</th>\n",
       "      <td>2007-01-29</td>\n",
       "      <td>8</td>\n",
       "      <td>1</td>\n",
       "      <td>8.944444</td>\n",
       "      <td>63.8526</td>\n",
       "      <td>1009.05</td>\n",
       "      <td>0.49</td>\n",
       "    </tr>\n",
       "  </tbody>\n",
       "</table>\n",
       "</div>"
      ],
      "text/plain": [
       "      formatted_date  summary  precip_type  temperature_C  wind_speed_km_h  \\\n",
       "12181     2007-01-29        8            1       8.944444          63.8526   \n",
       "\n",
       "       pressure_millibars  humidity  \n",
       "12181             1009.05      0.49  "
      ]
     },
     "execution_count": 91,
     "metadata": {},
     "output_type": "execute_result"
    }
   ],
   "source": [
    "# what is the info of the day with maximum wind speed?\n",
    "maximum_wind_speed = england_weather_df[\"wind_speed_km_h\"].max()\n",
    "england_weather_df[england_weather_df[\"wind_speed_km_h\"] == maximum_wind_speed]"
   ]
  },
  {
   "cell_type": "code",
   "execution_count": 92,
   "id": "5c07c28f",
   "metadata": {},
   "outputs": [
    {
     "data": {
      "text/html": [
       "<div>\n",
       "<style scoped>\n",
       "    .dataframe tbody tr th:only-of-type {\n",
       "        vertical-align: middle;\n",
       "    }\n",
       "\n",
       "    .dataframe tbody tr th {\n",
       "        vertical-align: top;\n",
       "    }\n",
       "\n",
       "    .dataframe thead th {\n",
       "        text-align: right;\n",
       "    }\n",
       "</style>\n",
       "<table border=\"1\" class=\"dataframe\">\n",
       "  <thead>\n",
       "    <tr style=\"text-align: right;\">\n",
       "      <th></th>\n",
       "      <th>formatted_date</th>\n",
       "      <th>summary</th>\n",
       "      <th>precip_type</th>\n",
       "      <th>temperature_C</th>\n",
       "      <th>wind_speed_km_h</th>\n",
       "      <th>pressure_millibars</th>\n",
       "      <th>humidity</th>\n",
       "    </tr>\n",
       "  </thead>\n",
       "  <tbody>\n",
       "    <tr>\n",
       "      <th>835</th>\n",
       "      <td>2006-08-13</td>\n",
       "      <td>19</td>\n",
       "      <td>1</td>\n",
       "      <td>18.866667</td>\n",
       "      <td>0.0322</td>\n",
       "      <td>1010.18</td>\n",
       "      <td>0.9</td>\n",
       "    </tr>\n",
       "  </tbody>\n",
       "</table>\n",
       "</div>"
      ],
      "text/plain": [
       "    formatted_date  summary  precip_type  temperature_C  wind_speed_km_h  \\\n",
       "835     2006-08-13       19            1      18.866667           0.0322   \n",
       "\n",
       "     pressure_millibars  humidity  \n",
       "835             1010.18       0.9  "
      ]
     },
     "execution_count": 92,
     "metadata": {},
     "output_type": "execute_result"
    }
   ],
   "source": [
    "# what is the info of the day with minimum wind speed?\n",
    "minimum_wind_speed = england_weather_df[\"wind_speed_km_h\"].min()\n",
    "england_weather_df[england_weather_df[\"wind_speed_km_h\"] == minimum_wind_speed]"
   ]
  },
  {
   "cell_type": "code",
   "execution_count": 93,
   "id": "61c6137f",
   "metadata": {},
   "outputs": [
    {
     "data": {
      "text/plain": [
       "22.022449161494592"
      ]
     },
     "execution_count": 93,
     "metadata": {},
     "output_type": "execute_result"
    }
   ],
   "source": [
    "# what is the mean of the temperature in summer? \n",
    "england_weather_df[\"temperature_C\"][england_weather_df[\"formatted_date\"].dt.month.isin(summer)].mean()"
   ]
  },
  {
   "cell_type": "code",
   "execution_count": 94,
   "id": "8de24252",
   "metadata": {},
   "outputs": [
    {
     "data": {
      "text/plain": [
       "1.516927520418597"
      ]
     },
     "execution_count": 94,
     "metadata": {},
     "output_type": "execute_result"
    }
   ],
   "source": [
    "# what is the mean of the temperature in winter? \n",
    "england_weather_df[\"temperature_C\"][england_weather_df[\"formatted_date\"].dt.month.isin(winter)].mean()"
   ]
  },
  {
   "cell_type": "code",
   "execution_count": 95,
   "id": "41ebc45b",
   "metadata": {
    "scrolled": false
   },
   "outputs": [
    {
     "data": {
      "text/html": [
       "<div>\n",
       "<style scoped>\n",
       "    .dataframe tbody tr th:only-of-type {\n",
       "        vertical-align: middle;\n",
       "    }\n",
       "\n",
       "    .dataframe tbody tr th {\n",
       "        vertical-align: top;\n",
       "    }\n",
       "\n",
       "    .dataframe thead th {\n",
       "        text-align: right;\n",
       "    }\n",
       "</style>\n",
       "<table border=\"1\" class=\"dataframe\">\n",
       "  <thead>\n",
       "    <tr style=\"text-align: right;\">\n",
       "      <th></th>\n",
       "      <th>formatted_date</th>\n",
       "      <th>temperature_C</th>\n",
       "      <th>pressure_millibars</th>\n",
       "      <th>wind_speed_km_h</th>\n",
       "      <th>humidity</th>\n",
       "    </tr>\n",
       "  </thead>\n",
       "  <tbody>\n",
       "    <tr>\n",
       "      <th>720</th>\n",
       "      <td>2006-08-01</td>\n",
       "      <td>21.016667</td>\n",
       "      <td>1012.02</td>\n",
       "      <td>3.220000</td>\n",
       "      <td>0.87</td>\n",
       "    </tr>\n",
       "    <tr>\n",
       "      <th>721</th>\n",
       "      <td>2006-08-01</td>\n",
       "      <td>19.444444</td>\n",
       "      <td>1012.22</td>\n",
       "      <td>6.037500</td>\n",
       "      <td>0.90</td>\n",
       "    </tr>\n",
       "    <tr>\n",
       "      <th>722</th>\n",
       "      <td>2006-08-01</td>\n",
       "      <td>20.722222</td>\n",
       "      <td>1008.65</td>\n",
       "      <td>9.225300</td>\n",
       "      <td>0.81</td>\n",
       "    </tr>\n",
       "    <tr>\n",
       "      <th>723</th>\n",
       "      <td>2006-08-01</td>\n",
       "      <td>18.794444</td>\n",
       "      <td>1012.11</td>\n",
       "      <td>5.924800</td>\n",
       "      <td>0.93</td>\n",
       "    </tr>\n",
       "    <tr>\n",
       "      <th>724</th>\n",
       "      <td>2006-08-01</td>\n",
       "      <td>17.733333</td>\n",
       "      <td>1011.63</td>\n",
       "      <td>3.123400</td>\n",
       "      <td>0.93</td>\n",
       "    </tr>\n",
       "    <tr>\n",
       "      <th>...</th>\n",
       "      <td>...</td>\n",
       "      <td>...</td>\n",
       "      <td>...</td>\n",
       "      <td>...</td>\n",
       "      <td>...</td>\n",
       "    </tr>\n",
       "    <tr>\n",
       "      <th>92776</th>\n",
       "      <td>2016-06-09</td>\n",
       "      <td>23.861111</td>\n",
       "      <td>1010.80</td>\n",
       "      <td>3.445400</td>\n",
       "      <td>0.45</td>\n",
       "    </tr>\n",
       "    <tr>\n",
       "      <th>92777</th>\n",
       "      <td>2016-06-09</td>\n",
       "      <td>21.427778</td>\n",
       "      <td>1011.11</td>\n",
       "      <td>3.912300</td>\n",
       "      <td>0.53</td>\n",
       "    </tr>\n",
       "    <tr>\n",
       "      <th>92778</th>\n",
       "      <td>2016-06-09</td>\n",
       "      <td>18.838889</td>\n",
       "      <td>1011.42</td>\n",
       "      <td>9.396986</td>\n",
       "      <td>0.73</td>\n",
       "    </tr>\n",
       "    <tr>\n",
       "      <th>92779</th>\n",
       "      <td>2016-06-09</td>\n",
       "      <td>17.200000</td>\n",
       "      <td>1011.72</td>\n",
       "      <td>9.396986</td>\n",
       "      <td>0.81</td>\n",
       "    </tr>\n",
       "    <tr>\n",
       "      <th>92780</th>\n",
       "      <td>2016-06-09</td>\n",
       "      <td>16.644444</td>\n",
       "      <td>1011.56</td>\n",
       "      <td>4.427500</td>\n",
       "      <td>0.82</td>\n",
       "    </tr>\n",
       "  </tbody>\n",
       "</table>\n",
       "<p>24309 rows × 5 columns</p>\n",
       "</div>"
      ],
      "text/plain": [
       "      formatted_date  temperature_C  pressure_millibars  wind_speed_km_h  \\\n",
       "720       2006-08-01      21.016667             1012.02         3.220000   \n",
       "721       2006-08-01      19.444444             1012.22         6.037500   \n",
       "722       2006-08-01      20.722222             1008.65         9.225300   \n",
       "723       2006-08-01      18.794444             1012.11         5.924800   \n",
       "724       2006-08-01      17.733333             1011.63         3.123400   \n",
       "...              ...            ...                 ...              ...   \n",
       "92776     2016-06-09      23.861111             1010.80         3.445400   \n",
       "92777     2016-06-09      21.427778             1011.11         3.912300   \n",
       "92778     2016-06-09      18.838889             1011.42         9.396986   \n",
       "92779     2016-06-09      17.200000             1011.72         9.396986   \n",
       "92780     2016-06-09      16.644444             1011.56         4.427500   \n",
       "\n",
       "       humidity  \n",
       "720        0.87  \n",
       "721        0.90  \n",
       "722        0.81  \n",
       "723        0.93  \n",
       "724        0.93  \n",
       "...         ...  \n",
       "92776      0.45  \n",
       "92777      0.53  \n",
       "92778      0.73  \n",
       "92779      0.81  \n",
       "92780      0.82  \n",
       "\n",
       "[24309 rows x 5 columns]"
      ]
     },
     "execution_count": 95,
     "metadata": {},
     "output_type": "execute_result"
    }
   ],
   "source": [
    "england_summer = england_weather_df[[\"formatted_date\", \"temperature_C\", \"pressure_millibars\", \"wind_speed_km_h\", \"humidity\"]][england_weather_df[\"formatted_date\"].dt.month.isin(summer)]\n",
    "england_summer"
   ]
  },
  {
   "cell_type": "code",
   "execution_count": 96,
   "id": "c6766587",
   "metadata": {},
   "outputs": [
    {
     "data": {
      "text/html": [
       "<div>\n",
       "<style scoped>\n",
       "    .dataframe tbody tr th:only-of-type {\n",
       "        vertical-align: middle;\n",
       "    }\n",
       "\n",
       "    .dataframe tbody tr th {\n",
       "        vertical-align: top;\n",
       "    }\n",
       "\n",
       "    .dataframe thead th {\n",
       "        text-align: right;\n",
       "    }\n",
       "</style>\n",
       "<table border=\"1\" class=\"dataframe\">\n",
       "  <thead>\n",
       "    <tr style=\"text-align: right;\">\n",
       "      <th></th>\n",
       "      <th>formatted_date</th>\n",
       "      <th>temperature_C</th>\n",
       "      <th>pressure_millibars</th>\n",
       "      <th>wind_speed_km_h</th>\n",
       "      <th>humidity</th>\n",
       "    </tr>\n",
       "  </thead>\n",
       "  <tbody>\n",
       "    <tr>\n",
       "      <th>720</th>\n",
       "      <td>2006</td>\n",
       "      <td>21.016667</td>\n",
       "      <td>1012.02</td>\n",
       "      <td>3.2200</td>\n",
       "      <td>0.87</td>\n",
       "    </tr>\n",
       "    <tr>\n",
       "      <th>721</th>\n",
       "      <td>2006</td>\n",
       "      <td>19.444444</td>\n",
       "      <td>1012.22</td>\n",
       "      <td>6.0375</td>\n",
       "      <td>0.90</td>\n",
       "    </tr>\n",
       "    <tr>\n",
       "      <th>722</th>\n",
       "      <td>2006</td>\n",
       "      <td>20.722222</td>\n",
       "      <td>1008.65</td>\n",
       "      <td>9.2253</td>\n",
       "      <td>0.81</td>\n",
       "    </tr>\n",
       "    <tr>\n",
       "      <th>723</th>\n",
       "      <td>2006</td>\n",
       "      <td>18.794444</td>\n",
       "      <td>1012.11</td>\n",
       "      <td>5.9248</td>\n",
       "      <td>0.93</td>\n",
       "    </tr>\n",
       "    <tr>\n",
       "      <th>724</th>\n",
       "      <td>2006</td>\n",
       "      <td>17.733333</td>\n",
       "      <td>1011.63</td>\n",
       "      <td>3.1234</td>\n",
       "      <td>0.93</td>\n",
       "    </tr>\n",
       "  </tbody>\n",
       "</table>\n",
       "</div>"
      ],
      "text/plain": [
       "     formatted_date  temperature_C  pressure_millibars  wind_speed_km_h  \\\n",
       "720            2006      21.016667             1012.02           3.2200   \n",
       "721            2006      19.444444             1012.22           6.0375   \n",
       "722            2006      20.722222             1008.65           9.2253   \n",
       "723            2006      18.794444             1012.11           5.9248   \n",
       "724            2006      17.733333             1011.63           3.1234   \n",
       "\n",
       "     humidity  \n",
       "720      0.87  \n",
       "721      0.90  \n",
       "722      0.81  \n",
       "723      0.93  \n",
       "724      0.93  "
      ]
     },
     "execution_count": 96,
     "metadata": {},
     "output_type": "execute_result"
    }
   ],
   "source": [
    "england_summer_years = england_summer.copy()\n",
    "england_summer_years[\"formatted_date\"] = england_summer_years[\"formatted_date\"].dt.year\n",
    "england_summer_years.head()"
   ]
  },
  {
   "cell_type": "code",
   "execution_count": 97,
   "id": "252cefe1",
   "metadata": {},
   "outputs": [
    {
     "data": {
      "text/html": [
       "<div>\n",
       "<style scoped>\n",
       "    .dataframe tbody tr th:only-of-type {\n",
       "        vertical-align: middle;\n",
       "    }\n",
       "\n",
       "    .dataframe tbody tr th {\n",
       "        vertical-align: top;\n",
       "    }\n",
       "\n",
       "    .dataframe thead th {\n",
       "        text-align: right;\n",
       "    }\n",
       "</style>\n",
       "<table border=\"1\" class=\"dataframe\">\n",
       "  <thead>\n",
       "    <tr style=\"text-align: right;\">\n",
       "      <th></th>\n",
       "      <th>formatted_date</th>\n",
       "      <th>temperature_C</th>\n",
       "      <th>pressure_millibars</th>\n",
       "      <th>wind_speed_km_h</th>\n",
       "      <th>humidity</th>\n",
       "    </tr>\n",
       "    <tr>\n",
       "      <th>index</th>\n",
       "      <th></th>\n",
       "      <th></th>\n",
       "      <th></th>\n",
       "      <th></th>\n",
       "      <th></th>\n",
       "    </tr>\n",
       "  </thead>\n",
       "  <tbody>\n",
       "    <tr>\n",
       "      <th>0</th>\n",
       "      <td>2006</td>\n",
       "      <td>20.816644</td>\n",
       "      <td>1015.382848</td>\n",
       "      <td>8.602574</td>\n",
       "      <td>0.721218</td>\n",
       "    </tr>\n",
       "    <tr>\n",
       "      <th>1</th>\n",
       "      <td>2007</td>\n",
       "      <td>22.981683</td>\n",
       "      <td>1013.130380</td>\n",
       "      <td>10.022070</td>\n",
       "      <td>0.556431</td>\n",
       "    </tr>\n",
       "    <tr>\n",
       "      <th>2</th>\n",
       "      <td>2008</td>\n",
       "      <td>22.032259</td>\n",
       "      <td>1014.137531</td>\n",
       "      <td>10.272799</td>\n",
       "      <td>0.615426</td>\n",
       "    </tr>\n",
       "    <tr>\n",
       "      <th>3</th>\n",
       "      <td>2009</td>\n",
       "      <td>21.961305</td>\n",
       "      <td>1014.948279</td>\n",
       "      <td>10.148087</td>\n",
       "      <td>0.623931</td>\n",
       "    </tr>\n",
       "    <tr>\n",
       "      <th>4</th>\n",
       "      <td>2010</td>\n",
       "      <td>21.689123</td>\n",
       "      <td>1013.241983</td>\n",
       "      <td>9.253431</td>\n",
       "      <td>0.758477</td>\n",
       "    </tr>\n",
       "    <tr>\n",
       "      <th>5</th>\n",
       "      <td>2011</td>\n",
       "      <td>21.898012</td>\n",
       "      <td>1013.401573</td>\n",
       "      <td>9.920948</td>\n",
       "      <td>0.672097</td>\n",
       "    </tr>\n",
       "    <tr>\n",
       "      <th>6</th>\n",
       "      <td>2012</td>\n",
       "      <td>23.489261</td>\n",
       "      <td>1014.124716</td>\n",
       "      <td>10.340270</td>\n",
       "      <td>0.567495</td>\n",
       "    </tr>\n",
       "    <tr>\n",
       "      <th>7</th>\n",
       "      <td>2013</td>\n",
       "      <td>21.975936</td>\n",
       "      <td>1015.565033</td>\n",
       "      <td>8.863253</td>\n",
       "      <td>0.663895</td>\n",
       "    </tr>\n",
       "    <tr>\n",
       "      <th>8</th>\n",
       "      <td>2014</td>\n",
       "      <td>20.865865</td>\n",
       "      <td>1013.612564</td>\n",
       "      <td>9.208313</td>\n",
       "      <td>0.670667</td>\n",
       "    </tr>\n",
       "    <tr>\n",
       "      <th>9</th>\n",
       "      <td>2015</td>\n",
       "      <td>22.694963</td>\n",
       "      <td>1015.835213</td>\n",
       "      <td>9.261052</td>\n",
       "      <td>0.645960</td>\n",
       "    </tr>\n",
       "    <tr>\n",
       "      <th>10</th>\n",
       "      <td>2016</td>\n",
       "      <td>21.843941</td>\n",
       "      <td>1015.514855</td>\n",
       "      <td>9.526682</td>\n",
       "      <td>0.691997</td>\n",
       "    </tr>\n",
       "  </tbody>\n",
       "</table>\n",
       "</div>"
      ],
      "text/plain": [
       "       formatted_date  temperature_C  pressure_millibars  wind_speed_km_h  \\\n",
       "index                                                                       \n",
       "0                2006      20.816644         1015.382848         8.602574   \n",
       "1                2007      22.981683         1013.130380        10.022070   \n",
       "2                2008      22.032259         1014.137531        10.272799   \n",
       "3                2009      21.961305         1014.948279        10.148087   \n",
       "4                2010      21.689123         1013.241983         9.253431   \n",
       "5                2011      21.898012         1013.401573         9.920948   \n",
       "6                2012      23.489261         1014.124716        10.340270   \n",
       "7                2013      21.975936         1015.565033         8.863253   \n",
       "8                2014      20.865865         1013.612564         9.208313   \n",
       "9                2015      22.694963         1015.835213         9.261052   \n",
       "10               2016      21.843941         1015.514855         9.526682   \n",
       "\n",
       "       humidity  \n",
       "index            \n",
       "0      0.721218  \n",
       "1      0.556431  \n",
       "2      0.615426  \n",
       "3      0.623931  \n",
       "4      0.758477  \n",
       "5      0.672097  \n",
       "6      0.567495  \n",
       "7      0.663895  \n",
       "8      0.670667  \n",
       "9      0.645960  \n",
       "10     0.691997  "
      ]
     },
     "execution_count": 97,
     "metadata": {},
     "output_type": "execute_result"
    }
   ],
   "source": [
    "# dataframe for the average of temperature of each summer [2006 - 2016]\n",
    "summer_by_years = england_summer.groupby(england_summer[\"formatted_date\"].dt.year).mean()\n",
    "summer_by_years[\"index\"] = range(11)\n",
    "summer_by_years[\"formatted_date\"] = summer_by_years[\"formatted_date\"].dt.year\n",
    "summer_by_years.set_index(\"index\", inplace = True)\n",
    "summer_by_years"
   ]
  },
  {
   "cell_type": "code",
   "execution_count": 98,
   "id": "9b93277b",
   "metadata": {},
   "outputs": [
    {
     "data": {
      "text/html": [
       "<div>\n",
       "<style scoped>\n",
       "    .dataframe tbody tr th:only-of-type {\n",
       "        vertical-align: middle;\n",
       "    }\n",
       "\n",
       "    .dataframe tbody tr th {\n",
       "        vertical-align: top;\n",
       "    }\n",
       "\n",
       "    .dataframe thead th {\n",
       "        text-align: right;\n",
       "    }\n",
       "</style>\n",
       "<table border=\"1\" class=\"dataframe\">\n",
       "  <thead>\n",
       "    <tr style=\"text-align: right;\">\n",
       "      <th></th>\n",
       "      <th>formatted_date</th>\n",
       "      <th>temperature_C</th>\n",
       "      <th>pressure_millibars</th>\n",
       "      <th>wind_speed_km_h</th>\n",
       "      <th>humidity</th>\n",
       "    </tr>\n",
       "  </thead>\n",
       "  <tbody>\n",
       "    <tr>\n",
       "      <th>1464</th>\n",
       "      <td>2006-12-01</td>\n",
       "      <td>6.572222</td>\n",
       "      <td>1038.06</td>\n",
       "      <td>6.4400</td>\n",
       "      <td>0.93</td>\n",
       "    </tr>\n",
       "    <tr>\n",
       "      <th>1465</th>\n",
       "      <td>2006-12-01</td>\n",
       "      <td>6.627778</td>\n",
       "      <td>1034.84</td>\n",
       "      <td>4.2665</td>\n",
       "      <td>0.93</td>\n",
       "    </tr>\n",
       "    <tr>\n",
       "      <th>1466</th>\n",
       "      <td>2006-12-01</td>\n",
       "      <td>6.622222</td>\n",
       "      <td>1037.85</td>\n",
       "      <td>6.1824</td>\n",
       "      <td>0.96</td>\n",
       "    </tr>\n",
       "    <tr>\n",
       "      <th>1467</th>\n",
       "      <td>2006-12-01</td>\n",
       "      <td>6.622222</td>\n",
       "      <td>1037.67</td>\n",
       "      <td>6.1824</td>\n",
       "      <td>0.93</td>\n",
       "    </tr>\n",
       "    <tr>\n",
       "      <th>1468</th>\n",
       "      <td>2006-12-01</td>\n",
       "      <td>6.150000</td>\n",
       "      <td>1037.47</td>\n",
       "      <td>6.1985</td>\n",
       "      <td>0.96</td>\n",
       "    </tr>\n",
       "    <tr>\n",
       "      <th>...</th>\n",
       "      <td>...</td>\n",
       "      <td>...</td>\n",
       "      <td>...</td>\n",
       "      <td>...</td>\n",
       "      <td>...</td>\n",
       "    </tr>\n",
       "    <tr>\n",
       "      <th>91312</th>\n",
       "      <td>2016-01-09</td>\n",
       "      <td>2.805556</td>\n",
       "      <td>1008.46</td>\n",
       "      <td>8.6940</td>\n",
       "      <td>0.95</td>\n",
       "    </tr>\n",
       "    <tr>\n",
       "      <th>91313</th>\n",
       "      <td>2016-01-09</td>\n",
       "      <td>2.638889</td>\n",
       "      <td>1007.73</td>\n",
       "      <td>10.7065</td>\n",
       "      <td>1.00</td>\n",
       "    </tr>\n",
       "    <tr>\n",
       "      <th>91314</th>\n",
       "      <td>2016-01-09</td>\n",
       "      <td>2.638889</td>\n",
       "      <td>1007.44</td>\n",
       "      <td>10.6904</td>\n",
       "      <td>1.00</td>\n",
       "    </tr>\n",
       "    <tr>\n",
       "      <th>91315</th>\n",
       "      <td>2016-01-09</td>\n",
       "      <td>1.994444</td>\n",
       "      <td>1007.29</td>\n",
       "      <td>6.3112</td>\n",
       "      <td>0.95</td>\n",
       "    </tr>\n",
       "    <tr>\n",
       "      <th>91316</th>\n",
       "      <td>2016-01-09</td>\n",
       "      <td>3.150000</td>\n",
       "      <td>1006.95</td>\n",
       "      <td>13.7172</td>\n",
       "      <td>0.96</td>\n",
       "    </tr>\n",
       "  </tbody>\n",
       "</table>\n",
       "<p>23832 rows × 5 columns</p>\n",
       "</div>"
      ],
      "text/plain": [
       "      formatted_date  temperature_C  pressure_millibars  wind_speed_km_h  \\\n",
       "1464      2006-12-01       6.572222             1038.06           6.4400   \n",
       "1465      2006-12-01       6.627778             1034.84           4.2665   \n",
       "1466      2006-12-01       6.622222             1037.85           6.1824   \n",
       "1467      2006-12-01       6.622222             1037.67           6.1824   \n",
       "1468      2006-12-01       6.150000             1037.47           6.1985   \n",
       "...              ...            ...                 ...              ...   \n",
       "91312     2016-01-09       2.805556             1008.46           8.6940   \n",
       "91313     2016-01-09       2.638889             1007.73          10.7065   \n",
       "91314     2016-01-09       2.638889             1007.44          10.6904   \n",
       "91315     2016-01-09       1.994444             1007.29           6.3112   \n",
       "91316     2016-01-09       3.150000             1006.95          13.7172   \n",
       "\n",
       "       humidity  \n",
       "1464       0.93  \n",
       "1465       0.93  \n",
       "1466       0.96  \n",
       "1467       0.93  \n",
       "1468       0.96  \n",
       "...         ...  \n",
       "91312      0.95  \n",
       "91313      1.00  \n",
       "91314      1.00  \n",
       "91315      0.95  \n",
       "91316      0.96  \n",
       "\n",
       "[23832 rows x 5 columns]"
      ]
     },
     "execution_count": 98,
     "metadata": {},
     "output_type": "execute_result"
    }
   ],
   "source": [
    "england_winter = england_weather_df[[\"formatted_date\", \"temperature_C\", \"pressure_millibars\", \"wind_speed_km_h\", \"humidity\"]][england_weather_df[\"formatted_date\"].dt.month.isin(winter)]\n",
    "england_winter"
   ]
  },
  {
   "cell_type": "code",
   "execution_count": 99,
   "id": "b7df59ee",
   "metadata": {
    "scrolled": false
   },
   "outputs": [
    {
     "data": {
      "text/html": [
       "<div>\n",
       "<style scoped>\n",
       "    .dataframe tbody tr th:only-of-type {\n",
       "        vertical-align: middle;\n",
       "    }\n",
       "\n",
       "    .dataframe tbody tr th {\n",
       "        vertical-align: top;\n",
       "    }\n",
       "\n",
       "    .dataframe thead th {\n",
       "        text-align: right;\n",
       "    }\n",
       "</style>\n",
       "<table border=\"1\" class=\"dataframe\">\n",
       "  <thead>\n",
       "    <tr style=\"text-align: right;\">\n",
       "      <th></th>\n",
       "      <th>formatted_date</th>\n",
       "      <th>temperature_C</th>\n",
       "      <th>pressure_millibars</th>\n",
       "      <th>wind_speed_km_h</th>\n",
       "      <th>humidity</th>\n",
       "    </tr>\n",
       "    <tr>\n",
       "      <th>index</th>\n",
       "      <th></th>\n",
       "      <th></th>\n",
       "      <th></th>\n",
       "      <th></th>\n",
       "      <th></th>\n",
       "    </tr>\n",
       "  </thead>\n",
       "  <tbody>\n",
       "    <tr>\n",
       "      <th>0</th>\n",
       "      <td>2006</td>\n",
       "      <td>0.171633</td>\n",
       "      <td>1024.776654</td>\n",
       "      <td>9.727322</td>\n",
       "      <td>0.861718</td>\n",
       "    </tr>\n",
       "    <tr>\n",
       "      <th>1</th>\n",
       "      <td>2007</td>\n",
       "      <td>2.914733</td>\n",
       "      <td>1020.481383</td>\n",
       "      <td>11.710869</td>\n",
       "      <td>0.828782</td>\n",
       "    </tr>\n",
       "    <tr>\n",
       "      <th>2</th>\n",
       "      <td>2008</td>\n",
       "      <td>2.600842</td>\n",
       "      <td>1024.527066</td>\n",
       "      <td>12.659203</td>\n",
       "      <td>0.778924</td>\n",
       "    </tr>\n",
       "    <tr>\n",
       "      <th>3</th>\n",
       "      <td>2009</td>\n",
       "      <td>1.059954</td>\n",
       "      <td>1014.383292</td>\n",
       "      <td>12.864532</td>\n",
       "      <td>0.845088</td>\n",
       "    </tr>\n",
       "    <tr>\n",
       "      <th>4</th>\n",
       "      <td>2010</td>\n",
       "      <td>-0.094020</td>\n",
       "      <td>1013.056190</td>\n",
       "      <td>12.372147</td>\n",
       "      <td>0.881431</td>\n",
       "    </tr>\n",
       "    <tr>\n",
       "      <th>5</th>\n",
       "      <td>2011</td>\n",
       "      <td>1.005303</td>\n",
       "      <td>1020.646586</td>\n",
       "      <td>10.236325</td>\n",
       "      <td>0.881722</td>\n",
       "    </tr>\n",
       "    <tr>\n",
       "      <th>6</th>\n",
       "      <td>2012</td>\n",
       "      <td>-1.349641</td>\n",
       "      <td>1020.160730</td>\n",
       "      <td>12.407778</td>\n",
       "      <td>0.816841</td>\n",
       "    </tr>\n",
       "    <tr>\n",
       "      <th>7</th>\n",
       "      <td>2013</td>\n",
       "      <td>1.878714</td>\n",
       "      <td>1017.821566</td>\n",
       "      <td>11.676711</td>\n",
       "      <td>0.858481</td>\n",
       "    </tr>\n",
       "    <tr>\n",
       "      <th>8</th>\n",
       "      <td>2014</td>\n",
       "      <td>3.622395</td>\n",
       "      <td>1014.989901</td>\n",
       "      <td>11.793094</td>\n",
       "      <td>0.832222</td>\n",
       "    </tr>\n",
       "    <tr>\n",
       "      <th>9</th>\n",
       "      <td>2015</td>\n",
       "      <td>2.463323</td>\n",
       "      <td>1021.672411</td>\n",
       "      <td>10.654940</td>\n",
       "      <td>0.855120</td>\n",
       "    </tr>\n",
       "    <tr>\n",
       "      <th>10</th>\n",
       "      <td>2016</td>\n",
       "      <td>2.422711</td>\n",
       "      <td>1017.597856</td>\n",
       "      <td>12.190951</td>\n",
       "      <td>0.864194</td>\n",
       "    </tr>\n",
       "  </tbody>\n",
       "</table>\n",
       "</div>"
      ],
      "text/plain": [
       "       formatted_date  temperature_C  pressure_millibars  wind_speed_km_h  \\\n",
       "index                                                                       \n",
       "0                2006       0.171633         1024.776654         9.727322   \n",
       "1                2007       2.914733         1020.481383        11.710869   \n",
       "2                2008       2.600842         1024.527066        12.659203   \n",
       "3                2009       1.059954         1014.383292        12.864532   \n",
       "4                2010      -0.094020         1013.056190        12.372147   \n",
       "5                2011       1.005303         1020.646586        10.236325   \n",
       "6                2012      -1.349641         1020.160730        12.407778   \n",
       "7                2013       1.878714         1017.821566        11.676711   \n",
       "8                2014       3.622395         1014.989901        11.793094   \n",
       "9                2015       2.463323         1021.672411        10.654940   \n",
       "10               2016       2.422711         1017.597856        12.190951   \n",
       "\n",
       "       humidity  \n",
       "index            \n",
       "0      0.861718  \n",
       "1      0.828782  \n",
       "2      0.778924  \n",
       "3      0.845088  \n",
       "4      0.881431  \n",
       "5      0.881722  \n",
       "6      0.816841  \n",
       "7      0.858481  \n",
       "8      0.832222  \n",
       "9      0.855120  \n",
       "10     0.864194  "
      ]
     },
     "execution_count": 99,
     "metadata": {},
     "output_type": "execute_result"
    }
   ],
   "source": [
    "# dataframe for the average of temperature of each winter [2006 - 2016]\n",
    "winter_by_years = england_winter.groupby(england_winter[\"formatted_date\"].dt.year).mean()\n",
    "winter_by_years[\"index\"] = range(11)\n",
    "winter_by_years[\"formatted_date\"] = winter_by_years[\"formatted_date\"].dt.year\n",
    "winter_by_years.set_index(\"index\", inplace = True)\n",
    "winter_by_years"
   ]
  },
  {
   "cell_type": "code",
   "execution_count": 100,
   "id": "e89a2544",
   "metadata": {},
   "outputs": [
    {
     "data": {
      "text/plain": [
       "array([1, 2, 0])"
      ]
     },
     "execution_count": 100,
     "metadata": {},
     "output_type": "execute_result"
    }
   ],
   "source": [
    "england_weather_df[\"precip_type\"].unique()"
   ]
  },
  {
   "cell_type": "markdown",
   "id": "7f393fd3",
   "metadata": {},
   "source": [
    "#### Don't Forget\n",
    "<br>\n",
    "0 -> Null\n",
    "<br>\n",
    "1 -> Rain\n",
    "<br>\n",
    "2 -> Snow"
   ]
  },
  {
   "cell_type": "code",
   "execution_count": 101,
   "id": "657f5d61",
   "metadata": {
    "scrolled": false
   },
   "outputs": [
    {
     "data": {
      "text/plain": [
       "precip_type\n",
       "1    85224\n",
       "2    10712\n",
       "0      517\n",
       "Name: count, dtype: int64"
      ]
     },
     "execution_count": 101,
     "metadata": {},
     "output_type": "execute_result"
    }
   ],
   "source": [
    "# what is the most repeated precip type in England\n",
    "england_weather_df[\"precip_type\"].value_counts()"
   ]
  },
  {
   "cell_type": "code",
   "execution_count": 102,
   "id": "2a13fa08",
   "metadata": {
    "scrolled": true
   },
   "outputs": [
    {
     "data": {
      "text/html": [
       "<div>\n",
       "<style scoped>\n",
       "    .dataframe tbody tr th:only-of-type {\n",
       "        vertical-align: middle;\n",
       "    }\n",
       "\n",
       "    .dataframe tbody tr th {\n",
       "        vertical-align: top;\n",
       "    }\n",
       "\n",
       "    .dataframe thead th {\n",
       "        text-align: right;\n",
       "    }\n",
       "</style>\n",
       "<table border=\"1\" class=\"dataframe\">\n",
       "  <thead>\n",
       "    <tr style=\"text-align: right;\">\n",
       "      <th></th>\n",
       "      <th>Type</th>\n",
       "      <th>Count</th>\n",
       "    </tr>\n",
       "  </thead>\n",
       "  <tbody>\n",
       "    <tr>\n",
       "      <th>0</th>\n",
       "      <td>Null</td>\n",
       "      <td>517</td>\n",
       "    </tr>\n",
       "    <tr>\n",
       "      <th>1</th>\n",
       "      <td>Rain</td>\n",
       "      <td>85224</td>\n",
       "    </tr>\n",
       "    <tr>\n",
       "      <th>2</th>\n",
       "      <td>Snow</td>\n",
       "      <td>10712</td>\n",
       "    </tr>\n",
       "  </tbody>\n",
       "</table>\n",
       "</div>"
      ],
      "text/plain": [
       "   Type  Count\n",
       "0  Null    517\n",
       "1  Rain  85224\n",
       "2  Snow  10712"
      ]
     },
     "execution_count": 102,
     "metadata": {},
     "output_type": "execute_result"
    }
   ],
   "source": [
    "precip_type_df = pd.DataFrame({\"Type\": [\"Null\", \"Rain\", \"Snow\"], \"Count\": [517, 85224, 10712]}, index = np.array([0, 1, 2]))\n",
    "precip_type_df"
   ]
  },
  {
   "cell_type": "markdown",
   "id": "6f490e25",
   "metadata": {},
   "source": [
    "So <b>Rain</b> is the most repeated <b>precip type</b> in England"
   ]
  },
  {
   "cell_type": "markdown",
   "id": "705ff853",
   "metadata": {},
   "source": [
    "#### Don't Forget\n",
    " 'Breezy': 1\n",
    " <br>\n",
    " 'Breezy and Dry': 2\n",
    " <br>\n",
    " 'Breezy and Foggy': 3\n",
    " <br>\n",
    " 'Breezy and Mostly Cloudy': 4\n",
    " <br>\n",
    " 'Breezy and Overcast': 5\n",
    " <br>\n",
    " 'Breezy and Partly Cloudy': 6\n",
    " <br>\n",
    " 'Clear': 7\n",
    " <br>\n",
    " 'Dangerously Windy and Partly Cloudy': 8\n",
    " <br>\n",
    " 'Drizzle': 9\n",
    " <br>\n",
    " 'Dry': 10\n",
    " <br>\n",
    " 'Dry and Mostly Cloudy': 11\n",
    " <br>\n",
    " 'Dry and Partly Cloudy': 12\n",
    " <br>\n",
    " 'Foggy': 13\n",
    " <br>\n",
    " 'Humid and Mostly Cloudy': 14\n",
    " <br>\n",
    " 'Humid and Overcast': 15\n",
    " <br>\n",
    " 'Humid and Partly Cloudy': 16\n",
    " <br>\n",
    " 'Light Rain': 17\n",
    " <br>\n",
    " 'Mostly Cloudy': 18\n",
    " <br>\n",
    " 'Overcast': 19\n",
    " <br>\n",
    " 'Partly Cloudy': 20\n",
    " <br>\n",
    " 'Rain': 21\n",
    " <br>\n",
    " 'Windy': 22\n",
    " <br>\n",
    " 'Windy and Dry': 23\n",
    " <br>\n",
    " 'Windy and Foggy': 24\n",
    " <br>\n",
    " 'Windy and Mostly Cloudy': 25\n",
    " <br>\n",
    " 'Windy and Overcast': 26\n",
    " <br>\n",
    " 'Windy and Partly Cloudy': 27"
   ]
  },
  {
   "cell_type": "code",
   "execution_count": 103,
   "id": "dcbf092f",
   "metadata": {},
   "outputs": [
    {
     "data": {
      "text/plain": [
       "summary\n",
       "20    31733\n",
       "18    28094\n",
       "19    16597\n",
       "7     10890\n",
       "13     7148\n",
       "5       528\n",
       "4       516\n",
       "6       386\n",
       "12       86\n",
       "27       67\n",
       "17       63\n",
       "1        54\n",
       "26       45\n",
       "14       40\n",
       "9        39\n",
       "3        35\n",
       "25       35\n",
       "10       34\n",
       "16       17\n",
       "11       14\n",
       "21       10\n",
       "22        8\n",
       "15        7\n",
       "24        4\n",
       "23        1\n",
       "8         1\n",
       "2         1\n",
       "Name: count, dtype: int64"
      ]
     },
     "execution_count": 103,
     "metadata": {},
     "output_type": "execute_result"
    }
   ],
   "source": [
    "# what is the most repeated summary in England\n",
    "england_weather_df[\"summary\"].value_counts()"
   ]
  },
  {
   "cell_type": "markdown",
   "id": "7136e797",
   "metadata": {},
   "source": [
    "So <b>Partly Cloudy</b> is the most repeated <b>summary</b> in England"
   ]
  },
  {
   "cell_type": "code",
   "execution_count": 104,
   "id": "7f3c50dc",
   "metadata": {
    "scrolled": false
   },
   "outputs": [
    {
     "data": {
      "text/html": [
       "<div>\n",
       "<style scoped>\n",
       "    .dataframe tbody tr th:only-of-type {\n",
       "        vertical-align: middle;\n",
       "    }\n",
       "\n",
       "    .dataframe tbody tr th {\n",
       "        vertical-align: top;\n",
       "    }\n",
       "\n",
       "    .dataframe thead th {\n",
       "        text-align: right;\n",
       "    }\n",
       "</style>\n",
       "<table border=\"1\" class=\"dataframe\">\n",
       "  <thead>\n",
       "    <tr style=\"text-align: right;\">\n",
       "      <th></th>\n",
       "      <th>formatted_date</th>\n",
       "      <th>summary</th>\n",
       "    </tr>\n",
       "    <tr>\n",
       "      <th>index</th>\n",
       "      <th></th>\n",
       "      <th></th>\n",
       "    </tr>\n",
       "  </thead>\n",
       "  <tbody>\n",
       "    <tr>\n",
       "      <th>0</th>\n",
       "      <td>2006</td>\n",
       "      <td>20</td>\n",
       "    </tr>\n",
       "    <tr>\n",
       "      <th>1</th>\n",
       "      <td>2006</td>\n",
       "      <td>7</td>\n",
       "    </tr>\n",
       "    <tr>\n",
       "      <th>2</th>\n",
       "      <td>2006</td>\n",
       "      <td>18</td>\n",
       "    </tr>\n",
       "    <tr>\n",
       "      <th>3</th>\n",
       "      <td>2006</td>\n",
       "      <td>20</td>\n",
       "    </tr>\n",
       "    <tr>\n",
       "      <th>4</th>\n",
       "      <td>2006</td>\n",
       "      <td>20</td>\n",
       "    </tr>\n",
       "    <tr>\n",
       "      <th>...</th>\n",
       "      <td>...</td>\n",
       "      <td>...</td>\n",
       "    </tr>\n",
       "    <tr>\n",
       "      <th>24304</th>\n",
       "      <td>2016</td>\n",
       "      <td>18</td>\n",
       "    </tr>\n",
       "    <tr>\n",
       "      <th>24305</th>\n",
       "      <td>2016</td>\n",
       "      <td>18</td>\n",
       "    </tr>\n",
       "    <tr>\n",
       "      <th>24306</th>\n",
       "      <td>2016</td>\n",
       "      <td>18</td>\n",
       "    </tr>\n",
       "    <tr>\n",
       "      <th>24307</th>\n",
       "      <td>2016</td>\n",
       "      <td>18</td>\n",
       "    </tr>\n",
       "    <tr>\n",
       "      <th>24308</th>\n",
       "      <td>2016</td>\n",
       "      <td>18</td>\n",
       "    </tr>\n",
       "  </tbody>\n",
       "</table>\n",
       "<p>24309 rows × 2 columns</p>\n",
       "</div>"
      ],
      "text/plain": [
       "       formatted_date  summary\n",
       "index                         \n",
       "0                2006       20\n",
       "1                2006        7\n",
       "2                2006       18\n",
       "3                2006       20\n",
       "4                2006       20\n",
       "...               ...      ...\n",
       "24304            2016       18\n",
       "24305            2016       18\n",
       "24306            2016       18\n",
       "24307            2016       18\n",
       "24308            2016       18\n",
       "\n",
       "[24309 rows x 2 columns]"
      ]
     },
     "execution_count": 104,
     "metadata": {},
     "output_type": "execute_result"
    }
   ],
   "source": [
    "# what is the most repeated summary in the summer of each year\n",
    "summary_summer = england_weather_df[[\"formatted_date\", \"summary\"]][england_weather_df[\"formatted_date\"].dt.month.isin(summer)]\n",
    "summary_summer[\"formatted_date\"] = summary_summer[\"formatted_date\"].dt.year\n",
    "summary_summer[\"index\"] = range(len(summary_summer.axes[0]))\n",
    "summary_summer.set_index(\"index\", inplace = True)\n",
    "summary_summer"
   ]
  },
  {
   "cell_type": "code",
   "execution_count": 105,
   "id": "9d6febaa",
   "metadata": {
    "scrolled": false
   },
   "outputs": [
    {
     "data": {
      "text/plain": [
       "formatted_date  summary\n",
       "2006            20         996\n",
       "                18         590\n",
       "                7          362\n",
       "                19         230\n",
       "                13          14\n",
       "                          ... \n",
       "2016            4            2\n",
       "                15           2\n",
       "                6            1\n",
       "                5            1\n",
       "                1            1\n",
       "Name: count, Length: 119, dtype: int64"
      ]
     },
     "metadata": {},
     "output_type": "display_data"
    }
   ],
   "source": [
    "collected_summary_summer = summary_summer.groupby(summary_summer[\"formatted_date\"]).value_counts()\n",
    "display(collected_summary_summer)"
   ]
  },
  {
   "cell_type": "code",
   "execution_count": 106,
   "id": "73ea9489",
   "metadata": {
    "scrolled": false
   },
   "outputs": [
    {
     "data": {
      "text/html": [
       "<div>\n",
       "<style scoped>\n",
       "    .dataframe tbody tr th:only-of-type {\n",
       "        vertical-align: middle;\n",
       "    }\n",
       "\n",
       "    .dataframe tbody tr th {\n",
       "        vertical-align: top;\n",
       "    }\n",
       "\n",
       "    .dataframe thead th {\n",
       "        text-align: right;\n",
       "    }\n",
       "</style>\n",
       "<table border=\"1\" class=\"dataframe\">\n",
       "  <thead>\n",
       "    <tr style=\"text-align: right;\">\n",
       "      <th></th>\n",
       "      <th>formatted_date</th>\n",
       "      <th>summary</th>\n",
       "    </tr>\n",
       "    <tr>\n",
       "      <th>index</th>\n",
       "      <th></th>\n",
       "      <th></th>\n",
       "    </tr>\n",
       "  </thead>\n",
       "  <tbody>\n",
       "    <tr>\n",
       "      <th>0</th>\n",
       "      <td>2006</td>\n",
       "      <td>19</td>\n",
       "    </tr>\n",
       "    <tr>\n",
       "      <th>1</th>\n",
       "      <td>2006</td>\n",
       "      <td>18</td>\n",
       "    </tr>\n",
       "    <tr>\n",
       "      <th>2</th>\n",
       "      <td>2006</td>\n",
       "      <td>19</td>\n",
       "    </tr>\n",
       "    <tr>\n",
       "      <th>3</th>\n",
       "      <td>2006</td>\n",
       "      <td>19</td>\n",
       "    </tr>\n",
       "    <tr>\n",
       "      <th>4</th>\n",
       "      <td>2006</td>\n",
       "      <td>19</td>\n",
       "    </tr>\n",
       "    <tr>\n",
       "      <th>...</th>\n",
       "      <td>...</td>\n",
       "      <td>...</td>\n",
       "    </tr>\n",
       "    <tr>\n",
       "      <th>23827</th>\n",
       "      <td>2016</td>\n",
       "      <td>18</td>\n",
       "    </tr>\n",
       "    <tr>\n",
       "      <th>23828</th>\n",
       "      <td>2016</td>\n",
       "      <td>18</td>\n",
       "    </tr>\n",
       "    <tr>\n",
       "      <th>23829</th>\n",
       "      <td>2016</td>\n",
       "      <td>19</td>\n",
       "    </tr>\n",
       "    <tr>\n",
       "      <th>23830</th>\n",
       "      <td>2016</td>\n",
       "      <td>19</td>\n",
       "    </tr>\n",
       "    <tr>\n",
       "      <th>23831</th>\n",
       "      <td>2016</td>\n",
       "      <td>19</td>\n",
       "    </tr>\n",
       "  </tbody>\n",
       "</table>\n",
       "<p>23832 rows × 2 columns</p>\n",
       "</div>"
      ],
      "text/plain": [
       "       formatted_date  summary\n",
       "index                         \n",
       "0                2006       19\n",
       "1                2006       18\n",
       "2                2006       19\n",
       "3                2006       19\n",
       "4                2006       19\n",
       "...               ...      ...\n",
       "23827            2016       18\n",
       "23828            2016       18\n",
       "23829            2016       19\n",
       "23830            2016       19\n",
       "23831            2016       19\n",
       "\n",
       "[23832 rows x 2 columns]"
      ]
     },
     "execution_count": 106,
     "metadata": {},
     "output_type": "execute_result"
    }
   ],
   "source": [
    "# what is the most repeated summary in the winter of each year\n",
    "summary_winter = england_weather_df[[\"formatted_date\", \"summary\"]][england_weather_df[\"formatted_date\"].dt.month.isin(winter)]\n",
    "summary_winter[\"formatted_date\"] = summary_winter[\"formatted_date\"].dt.year\n",
    "summary_winter[\"index\"] = range(len(summary_winter.axes[0]))\n",
    "summary_winter.set_index(\"index\", inplace = True)\n",
    "summary_winter"
   ]
  },
  {
   "cell_type": "code",
   "execution_count": 107,
   "id": "ef3d155a",
   "metadata": {
    "scrolled": true
   },
   "outputs": [
    {
     "data": {
      "text/plain": [
       "formatted_date  summary\n",
       "2006            19         623\n",
       "                13         491\n",
       "                18         406\n",
       "                20         323\n",
       "                7          310\n",
       "                          ... \n",
       "2016            13         220\n",
       "                7           39\n",
       "                5           26\n",
       "                4            1\n",
       "                6            1\n",
       "Name: count, Length: 117, dtype: int64"
      ]
     },
     "metadata": {},
     "output_type": "display_data"
    }
   ],
   "source": [
    "collected_summary_winter = summary_winter.groupby(summary_winter[\"formatted_date\"]).value_counts()\n",
    "display(collected_summary_winter)"
   ]
  },
  {
   "cell_type": "markdown",
   "id": "4f7c9829",
   "metadata": {},
   "source": [
    "the most repeated <b>summary</b> in each season are the same in <b>summer</b> and probably the same in <b>winter</b>"
   ]
  },
  {
   "cell_type": "markdown",
   "id": "4e7a8641",
   "metadata": {},
   "source": [
    "## Data Visualization"
   ]
  },
  {
   "cell_type": "code",
   "execution_count": 108,
   "id": "ead70c8c",
   "metadata": {},
   "outputs": [
    {
     "name": "stderr",
     "output_type": "stream",
     "text": [
      "C:\\Users\\amrsh\\anaconda3\\lib\\site-packages\\scipy\\__init__.py:146: UserWarning: A NumPy version >=1.16.5 and <1.23.0 is required for this version of SciPy (detected version 1.25.1\n",
      "  warnings.warn(f\"A NumPy version >={np_minversion} and <{np_maxversion}\"\n"
     ]
    }
   ],
   "source": [
    "import matplotlib.pyplot as plt\n",
    "import seaborn as sns\n",
    "sns.set()"
   ]
  },
  {
   "cell_type": "code",
   "execution_count": 109,
   "id": "07428957",
   "metadata": {},
   "outputs": [
    {
     "data": {
      "text/html": [
       "<div>\n",
       "<style scoped>\n",
       "    .dataframe tbody tr th:only-of-type {\n",
       "        vertical-align: middle;\n",
       "    }\n",
       "\n",
       "    .dataframe tbody tr th {\n",
       "        vertical-align: top;\n",
       "    }\n",
       "\n",
       "    .dataframe thead th {\n",
       "        text-align: right;\n",
       "    }\n",
       "</style>\n",
       "<table border=\"1\" class=\"dataframe\">\n",
       "  <thead>\n",
       "    <tr style=\"text-align: right;\">\n",
       "      <th></th>\n",
       "      <th>formatted_date</th>\n",
       "      <th>summary</th>\n",
       "      <th>precip_type</th>\n",
       "      <th>temperature_C</th>\n",
       "      <th>wind_speed_km_h</th>\n",
       "      <th>pressure_millibars</th>\n",
       "      <th>humidity</th>\n",
       "    </tr>\n",
       "  </thead>\n",
       "  <tbody>\n",
       "    <tr>\n",
       "      <th>0</th>\n",
       "      <td>2006-04-01</td>\n",
       "      <td>20</td>\n",
       "      <td>1</td>\n",
       "      <td>9.472222</td>\n",
       "      <td>14.1197</td>\n",
       "      <td>1015.13</td>\n",
       "      <td>0.89</td>\n",
       "    </tr>\n",
       "    <tr>\n",
       "      <th>1</th>\n",
       "      <td>2006-04-01</td>\n",
       "      <td>20</td>\n",
       "      <td>1</td>\n",
       "      <td>9.355556</td>\n",
       "      <td>14.2646</td>\n",
       "      <td>1015.63</td>\n",
       "      <td>0.86</td>\n",
       "    </tr>\n",
       "    <tr>\n",
       "      <th>2</th>\n",
       "      <td>2006-04-01</td>\n",
       "      <td>18</td>\n",
       "      <td>1</td>\n",
       "      <td>9.377778</td>\n",
       "      <td>3.9284</td>\n",
       "      <td>1015.94</td>\n",
       "      <td>0.89</td>\n",
       "    </tr>\n",
       "    <tr>\n",
       "      <th>3</th>\n",
       "      <td>2006-04-01</td>\n",
       "      <td>20</td>\n",
       "      <td>1</td>\n",
       "      <td>8.288889</td>\n",
       "      <td>14.1036</td>\n",
       "      <td>1016.41</td>\n",
       "      <td>0.83</td>\n",
       "    </tr>\n",
       "    <tr>\n",
       "      <th>4</th>\n",
       "      <td>2006-04-01</td>\n",
       "      <td>18</td>\n",
       "      <td>1</td>\n",
       "      <td>8.755556</td>\n",
       "      <td>11.0446</td>\n",
       "      <td>1016.51</td>\n",
       "      <td>0.83</td>\n",
       "    </tr>\n",
       "  </tbody>\n",
       "</table>\n",
       "</div>"
      ],
      "text/plain": [
       "  formatted_date  summary  precip_type  temperature_C  wind_speed_km_h  \\\n",
       "0     2006-04-01       20            1       9.472222          14.1197   \n",
       "1     2006-04-01       20            1       9.355556          14.2646   \n",
       "2     2006-04-01       18            1       9.377778           3.9284   \n",
       "3     2006-04-01       20            1       8.288889          14.1036   \n",
       "4     2006-04-01       18            1       8.755556          11.0446   \n",
       "\n",
       "   pressure_millibars  humidity  \n",
       "0             1015.13      0.89  \n",
       "1             1015.63      0.86  \n",
       "2             1015.94      0.89  \n",
       "3             1016.41      0.83  \n",
       "4             1016.51      0.83  "
      ]
     },
     "execution_count": 109,
     "metadata": {},
     "output_type": "execute_result"
    }
   ],
   "source": [
    "england_weather_df.head()"
   ]
  },
  {
   "cell_type": "code",
   "execution_count": 110,
   "id": "3d85ac5e",
   "metadata": {},
   "outputs": [
    {
     "data": {
      "image/png": "[encoded data removed]",
      "text/plain": [
       "<Figure size 1080x432 with 1 Axes>"
      ]
     },
     "metadata": {},
     "output_type": "display_data"
    }
   ],
   "source": [
    "plt.figure(figsize = (15, 6))\n",
    "ax = sns.barplot(data = summer_by_years, x = summer_by_years[\"formatted_date\"], \n",
    "                 y= summer_by_years[\"temperature_C\"], palette=(\"Blues_d\"))\n",
    "for i, v in enumerate(summer_by_years[\"temperature_C\"]):\n",
    "    rounded_value = round(v, 2)\n",
    "    plt.text(i, v, str(rounded_value), ha='center', va='bottom', fontsize = 13)\n",
    "\n",
    "sns.set_context(\"poster\")\n",
    "plt.xlabel(\"Year\", fontsize = 14, fontweight = \"bold\")\n",
    "plt.ylabel(\"Temperature\", fontsize = 14, fontweight = \"bold\")\n",
    "plt.xticks(rotation = 45, fontsize = 12)\n",
    "plt.yticks(fontsize = 12)\n",
    "plt.title(\"Average Temperature of Each Summer in England\", fontsize = 16, fontweight = \"bold\")\n",
    "plt.show()"
   ]
  },
  {
   "cell_type": "code",
   "execution_count": 111,
   "id": "a19cb9cb",
   "metadata": {
    "scrolled": false
   },
   "outputs": [
    {
     "data": {
      "image/png": "[encoded data removed]",
      "text/plain": [
       "<Figure size 1080x432 with 1 Axes>"
      ]
     },
     "metadata": {},
     "output_type": "display_data"
    }
   ],
   "source": [
    "plt.figure(figsize = (15, 6))\n",
    "ax = sns.barplot(data = winter_by_years, x = winter_by_years[\"formatted_date\"], \n",
    "                 y= winter_by_years[\"temperature_C\"], palette=(\"Blues_d\"))\n",
    "for i, v in enumerate(winter_by_years[\"temperature_C\"]):\n",
    "    rounded_value = round(v, 2)\n",
    "    plt.text(i, v, str(rounded_value), ha='center', va='bottom', fontsize = 13)\n",
    "sns.set_context(\"poster\")\n",
    "plt.xlabel(\"Year\", fontsize = 14, fontweight = \"bold\")\n",
    "plt.ylabel(\"Temperature\", fontsize = 14, fontweight = \"bold\")\n",
    "plt.xticks(rotation = 45, fontsize = 12)\n",
    "plt.yticks(fontsize = 12)\n",
    "plt.title(\"Average Temperature of Each Winter in England\", fontsize = 16, fontweight = \"bold\")\n",
    "plt.show()"
   ]
  },
  {
   "cell_type": "code",
   "execution_count": 112,
   "id": "58c39f42",
   "metadata": {
    "scrolled": false
   },
   "outputs": [
    {
     "data": {
      "image/png": "[encoded data removed]",
      "text/plain": [
       "<Figure size 1080x360 with 1 Axes>"
      ]
     },
     "metadata": {},
     "output_type": "display_data"
    }
   ],
   "source": [
    "summary_summer_vis = summary_summer.groupby(\"formatted_date\")[\"summary\"].agg(lambda x: x.mode().iloc[0]).reset_index()\n",
    "plt.figure(figsize = (15, 5))\n",
    "plt.plot(summary_summer_vis[\"formatted_date\"].values, summary_summer_vis[\"summary\"].values, color = \"#2E8A99\")\n",
    "plt.xticks(fontsize = 12)\n",
    "plt.yticks(fontsize = 12)\n",
    "plt.xlabel(\"Year\", fontsize = 14, fontweight = \"bold\")\n",
    "plt.ylabel(\"Summary\", fontsize = 14, fontweight = \"bold\")\n",
    "plt.title(\"Most Common Summary in Summer\", fontsize = 16, fontweight = \"bold\")\n",
    "plt.show()"
   ]
  },
  {
   "cell_type": "markdown",
   "id": "3101e190",
   "metadata": {},
   "source": [
    "The most repeated <b>summary</b> in summer is <b>20</b> that equal <b>Partly Cloudy</b>"
   ]
  },
  {
   "cell_type": "code",
   "execution_count": 113,
   "id": "a6846bd5",
   "metadata": {
    "scrolled": true
   },
   "outputs": [
    {
     "data": {
      "image/png": "[encoded data removed]",
      "text/plain": [
       "<Figure size 1080x360 with 1 Axes>"
      ]
     },
     "metadata": {},
     "output_type": "display_data"
    }
   ],
   "source": [
    "summary_winter_vis = summary_winter.groupby(\"formatted_date\")[\"summary\"].agg(lambda x: x.mode().iloc[0]).reset_index()\n",
    "plt.figure(figsize = (15, 5))\n",
    "plt.plot(summary_winter_vis[\"formatted_date\"].values, summary_winter_vis[\"summary\"].values, color = \"#2E8A99\")\n",
    "plt.xticks(fontsize = 12)\n",
    "plt.yticks(fontsize = 12)\n",
    "plt.xlabel(\"Year\", fontsize = 14, fontweight = \"bold\")\n",
    "plt.ylabel(\"Summary\", fontsize = 14, fontweight = \"bold\")\n",
    "plt.title(\"Most Common Summary in Winter\", fontsize = 16, fontweight = \"bold\")\n",
    "plt.show()"
   ]
  },
  {
   "cell_type": "markdown",
   "id": "729153c9",
   "metadata": {},
   "source": [
    "The most repeated <b>summary</b> in <b>winter</b> is <b>18, 19</b> that equal <b>Mostly Cloudy, Overcast</b>"
   ]
  },
  {
   "cell_type": "code",
   "execution_count": 114,
   "id": "a08c9aba",
   "metadata": {
    "scrolled": false
   },
   "outputs": [
    {
     "data": {
      "image/png": "[encoded data removed]",
      "text/plain": [
       "<Figure size 1080x720 with 1 Axes>"
      ]
     },
     "metadata": {},
     "output_type": "display_data"
    }
   ],
   "source": [
    "plt.figure(figsize = (15,10))\n",
    "palette_color = sns.color_palette('deep')\n",
    "plt.pie(precip_type_df[\"Count\"], labels = precip_type_df[\"Type\"], \n",
    "        autopct = '%0.2f%%', \n",
    "        textprops = {'size':16, 'fontweight': 'bold', 'color': 'w'},\n",
    "        colors = [\"#84A7A1\", \"#2E8A99\", \"#0E2954\"])\n",
    "plt.title(\"Percentage of each Precip Type in the England\", fontsize = 16, fontweight = 'bold')\n",
    "plt.legend(loc = \"upper right\")\n",
    "plt.tight_layout()\n",
    "plt.show()"
   ]
  },
  {
   "cell_type": "code",
   "execution_count": 115,
   "id": "9dc1f016",
   "metadata": {
    "scrolled": false
   },
   "outputs": [
    {
     "data": {
      "image/png": "[encoded data removed]",
      "text/plain": [
       "<Figure size 1080x360 with 1 Axes>"
      ]
     },
     "metadata": {},
     "output_type": "display_data"
    }
   ],
   "source": [
    "plt.figure(figsize = (15, 5))\n",
    "plt.plot(england_weather_df[\"formatted_date\"].values, england_weather_df[\"wind_speed_km_h\"].values, color = \"#2E8A99\")\n",
    "plt.xticks(fontsize = 12)\n",
    "plt.yticks(fontsize = 12)\n",
    "plt.xlabel(\"Year\", fontsize = 14, fontweight = \"bold\")\n",
    "plt.ylabel(\"Wind Speed\", fontsize = 14, fontweight = \"bold\")\n",
    "plt.title(\"Wind Speed in England\", fontsize = 16, fontweight = \"bold\")\n",
    "plt.show()"
   ]
  },
  {
   "cell_type": "code",
   "execution_count": 116,
   "id": "fb1a709b",
   "metadata": {
    "scrolled": false
   },
   "outputs": [
    {
     "data": {
      "image/png": "[encoded data removed]",
      "text/plain": [
       "<Figure size 1440x864 with 2 Axes>"
      ]
     },
     "metadata": {},
     "output_type": "display_data"
    }
   ],
   "source": [
    "fig, ax = plt.subplots(figsize = (20, 12))\n",
    "ax.bar(summer_by_years[\"formatted_date\"],\n",
    "       summer_by_years[\"wind_speed_km_h\"],\n",
    "       color = '#2E8A99')\n",
    "ax.set_ylabel(\"Wind Speed (KM/H)\",color = \"black\", weight = 'bold')\n",
    "ax.tick_params(axis=\"y\", width = 2, labelsize = 'large')\n",
    "\n",
    "\n",
    "ax1 = ax.twinx()\n",
    "ax1.plot(summer_by_years[\"formatted_date\"].values,\n",
    "         summer_by_years[\"humidity\"].values,\n",
    "         color = '#0E2954',\n",
    "         marker = 'D')\n",
    "ax1.set_ylabel(\"Humidity\", color = 'black', weight = \"bold\")\n",
    "ax1.tick_params(axis=\"y\", color = \"black\", width = 2, labelsize = 'large')\n",
    "\n",
    "ax.set_xlabel(\"Year\", weight = 'bold')\n",
    "ax.set_title(\"Wind Speed and Humidity in Summer\", weight = 'bold')\n",
    "\n",
    "plt.show()"
   ]
  },
  {
   "cell_type": "code",
   "execution_count": 117,
   "id": "a36492dc",
   "metadata": {
    "scrolled": false
   },
   "outputs": [
    {
     "data": {
      "image/png": "[encoded data removed]",
      "text/plain": [
       "<Figure size 1440x864 with 2 Axes>"
      ]
     },
     "metadata": {},
     "output_type": "display_data"
    }
   ],
   "source": [
    "fig, ax = plt.subplots(figsize = (20, 12))\n",
    "ax.bar(winter_by_years[\"formatted_date\"],\n",
    "       winter_by_years[\"wind_speed_km_h\"],\n",
    "       color = '#2E8A99')\n",
    "ax.set_ylabel(\"Wind Speed (KM/H)\",color = \"black\", weight = 'bold')\n",
    "ax.tick_params(axis=\"y\", width = 2, labelsize = 'large')\n",
    "\n",
    "\n",
    "ax1 = ax.twinx()\n",
    "ax1.plot(winter_by_years[\"formatted_date\"].values,\n",
    "         winter_by_years[\"humidity\"].values,\n",
    "         color = '#0E2954',\n",
    "         marker = 'D')\n",
    "ax1.set_ylabel(\"Humidity\", color = 'black', weight = \"bold\")\n",
    "ax1.tick_params(axis=\"y\", color = \"black\", width = 2, labelsize = 'large')\n",
    "\n",
    "ax.set_xlabel(\"Year\", weight = 'bold')\n",
    "ax.set_title(\"Wind Speed and Humidity in Winter\", weight = 'bold')\n",
    "\n",
    "plt.show()"
   ]
  },
  {
   "cell_type": "markdown",
   "id": "461276f5",
   "metadata": {},
   "source": [
    "### End of The Project, Thank You"
   ]
  }
 ],
 "metadata": {
  "kernelspec": {
   "display_name": "Python 3 (ipykernel)",
   "language": "python",
   "name": "python3"
  },
  "language_info": {
   "codemirror_mode": {
    "name": "ipython",
    "version": 3
   },
   "file_extension": ".py",
   "mimetype": "text/x-python",
   "name": "python",
   "nbconvert_exporter": "python",
   "pygments_lexer": "ipython3",
   "version": "3.9.12"
  }
 },
 "nbformat": 4,
 "nbformat_minor": 5
}
